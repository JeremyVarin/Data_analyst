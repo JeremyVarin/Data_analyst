{
 "cells": [
  {
   "cell_type": "markdown",
   "id": "adfee619",
   "metadata": {
    "slideshow": {
     "slide_type": "slide"
    }
   },
   "source": [
    "# Projet 4 : Réalisez une étude de santé publique avec R ou Python"
   ]
  },
  {
   "cell_type": "markdown",
   "id": "7e66cbbe",
   "metadata": {
    "slideshow": {
     "slide_type": "slide"
    }
   },
   "source": [
    "## Chargement préalable "
   ]
  },
  {
   "cell_type": "markdown",
   "id": "a0392193",
   "metadata": {
    "slideshow": {
     "slide_type": "fragment"
    }
   },
   "source": [
    "Importation des librairies "
   ]
  },
  {
   "cell_type": "code",
   "execution_count": 1,
   "id": "88fbe2de",
   "metadata": {
    "slideshow": {
     "slide_type": "fragment"
    }
   },
   "outputs": [],
   "source": [
    "import numpy as np\n",
    "import pandas as pd\n",
    "import matplotlib.pyplot as plt\n",
    "import seaborn as sns\n",
    "from functools import reduce\n",
    "import warnings\n",
    "warnings.filterwarnings('ignore')\n",
    "warnings.simplefilter('ignore') "
   ]
  },
  {
   "cell_type": "markdown",
   "id": "4f645ab2",
   "metadata": {
    "slideshow": {
     "slide_type": "slide"
    }
   },
   "source": [
    "Importation des fichiers CSV"
   ]
  },
  {
   "cell_type": "code",
   "execution_count": 2,
   "id": "b56246e3",
   "metadata": {
    "slideshow": {
     "slide_type": "fragment"
    }
   },
   "outputs": [],
   "source": [
    "popg = pd.read_csv('population.csv')\n",
    "aide= pd.read_csv('aide_alimentaire.csv')\n",
    "dispo= pd.read_csv('dispo_alimentaire.csv')\n",
    "sousnutg= pd.read_csv('sous_nutrition.csv')"
   ]
  },
  {
   "cell_type": "markdown",
   "id": "e09f57ff",
   "metadata": {
    "slideshow": {
     "slide_type": "slide"
    }
   },
   "source": [
    "## Prétraitement des données"
   ]
  },
  {
   "cell_type": "markdown",
   "id": "00d3da6a",
   "metadata": {
    "slideshow": {
     "slide_type": "slide"
    }
   },
   "source": [
    "### Population "
   ]
  },
  {
   "cell_type": "markdown",
   "id": "a8aeb07d",
   "metadata": {
    "slideshow": {
     "slide_type": "fragment"
    }
   },
   "source": [
    "Prévisualisation des données "
   ]
  },
  {
   "cell_type": "code",
   "execution_count": 3,
   "id": "13792c66",
   "metadata": {
    "slideshow": {
     "slide_type": "fragment"
    }
   },
   "outputs": [
    {
     "data": {
      "text/html": [
       "<div>\n",
       "<style scoped>\n",
       "    .dataframe tbody tr th:only-of-type {\n",
       "        vertical-align: middle;\n",
       "    }\n",
       "\n",
       "    .dataframe tbody tr th {\n",
       "        vertical-align: top;\n",
       "    }\n",
       "\n",
       "    .dataframe thead th {\n",
       "        text-align: right;\n",
       "    }\n",
       "</style>\n",
       "<table border=\"1\" class=\"dataframe\">\n",
       "  <thead>\n",
       "    <tr style=\"text-align: right;\">\n",
       "      <th></th>\n",
       "      <th>Zone</th>\n",
       "      <th>Année</th>\n",
       "      <th>Valeur</th>\n",
       "    </tr>\n",
       "  </thead>\n",
       "  <tbody>\n",
       "    <tr>\n",
       "      <th>0</th>\n",
       "      <td>Afghanistan</td>\n",
       "      <td>2013</td>\n",
       "      <td>32269.589</td>\n",
       "    </tr>\n",
       "    <tr>\n",
       "      <th>1</th>\n",
       "      <td>Afghanistan</td>\n",
       "      <td>2014</td>\n",
       "      <td>33370.794</td>\n",
       "    </tr>\n",
       "    <tr>\n",
       "      <th>2</th>\n",
       "      <td>Afghanistan</td>\n",
       "      <td>2015</td>\n",
       "      <td>34413.603</td>\n",
       "    </tr>\n",
       "    <tr>\n",
       "      <th>3</th>\n",
       "      <td>Afghanistan</td>\n",
       "      <td>2016</td>\n",
       "      <td>35383.032</td>\n",
       "    </tr>\n",
       "    <tr>\n",
       "      <th>4</th>\n",
       "      <td>Afghanistan</td>\n",
       "      <td>2017</td>\n",
       "      <td>36296.113</td>\n",
       "    </tr>\n",
       "  </tbody>\n",
       "</table>\n",
       "</div>"
      ],
      "text/plain": [
       "          Zone  Année     Valeur\n",
       "0  Afghanistan   2013  32269.589\n",
       "1  Afghanistan   2014  33370.794\n",
       "2  Afghanistan   2015  34413.603\n",
       "3  Afghanistan   2016  35383.032\n",
       "4  Afghanistan   2017  36296.113"
      ]
     },
     "execution_count": 3,
     "metadata": {},
     "output_type": "execute_result"
    }
   ],
   "source": [
    "popg.head()"
   ]
  },
  {
   "cell_type": "markdown",
   "id": "e3ee792f",
   "metadata": {
    "slideshow": {
     "slide_type": "slide"
    }
   },
   "source": [
    "La valeur s'exprime en millier d'habitant"
   ]
  },
  {
   "cell_type": "markdown",
   "id": "909246b7",
   "metadata": {
    "slideshow": {
     "slide_type": "slide"
    }
   },
   "source": [
    "Nous constatons qu'il existe des données pour plusieurs années, or nous ne travaillons que sur l'année 2017. Nous allons donc supprimer les données inutiles "
   ]
  },
  {
   "cell_type": "code",
   "execution_count": 4,
   "id": "f288d0f4",
   "metadata": {
    "slideshow": {
     "slide_type": "fragment"
    }
   },
   "outputs": [],
   "source": [
    "popg = pd.DataFrame(popg, columns = \n",
    "                  ['Zone' , 'Année', 'Valeur']) "
   ]
  },
  {
   "cell_type": "code",
   "execution_count": 5,
   "id": "10d1ab98",
   "metadata": {
    "slideshow": {
     "slide_type": "fragment"
    }
   },
   "outputs": [
    {
     "data": {
      "text/html": [
       "<div>\n",
       "<style scoped>\n",
       "    .dataframe tbody tr th:only-of-type {\n",
       "        vertical-align: middle;\n",
       "    }\n",
       "\n",
       "    .dataframe tbody tr th {\n",
       "        vertical-align: top;\n",
       "    }\n",
       "\n",
       "    .dataframe thead th {\n",
       "        text-align: right;\n",
       "    }\n",
       "</style>\n",
       "<table border=\"1\" class=\"dataframe\">\n",
       "  <thead>\n",
       "    <tr style=\"text-align: right;\">\n",
       "      <th></th>\n",
       "      <th>Zone</th>\n",
       "      <th>Année</th>\n",
       "      <th>Valeur</th>\n",
       "    </tr>\n",
       "  </thead>\n",
       "  <tbody>\n",
       "    <tr>\n",
       "      <th>4</th>\n",
       "      <td>Afghanistan</td>\n",
       "      <td>2017</td>\n",
       "      <td>36296.113</td>\n",
       "    </tr>\n",
       "    <tr>\n",
       "      <th>10</th>\n",
       "      <td>Afrique du Sud</td>\n",
       "      <td>2017</td>\n",
       "      <td>57009.756</td>\n",
       "    </tr>\n",
       "    <tr>\n",
       "      <th>16</th>\n",
       "      <td>Albanie</td>\n",
       "      <td>2017</td>\n",
       "      <td>2884.169</td>\n",
       "    </tr>\n",
       "    <tr>\n",
       "      <th>22</th>\n",
       "      <td>Algérie</td>\n",
       "      <td>2017</td>\n",
       "      <td>41389.189</td>\n",
       "    </tr>\n",
       "    <tr>\n",
       "      <th>28</th>\n",
       "      <td>Allemagne</td>\n",
       "      <td>2017</td>\n",
       "      <td>82658.409</td>\n",
       "    </tr>\n",
       "  </tbody>\n",
       "</table>\n",
       "</div>"
      ],
      "text/plain": [
       "              Zone  Année     Valeur\n",
       "4      Afghanistan   2017  36296.113\n",
       "10  Afrique du Sud   2017  57009.756\n",
       "16         Albanie   2017   2884.169\n",
       "22         Algérie   2017  41389.189\n",
       "28       Allemagne   2017  82658.409"
      ]
     },
     "execution_count": 5,
     "metadata": {},
     "output_type": "execute_result"
    }
   ],
   "source": [
    "pop= popg[popg['Année'] == 2017]\n",
    "pop.head()"
   ]
  },
  {
   "cell_type": "markdown",
   "id": "6cc775d2",
   "metadata": {
    "slideshow": {
     "slide_type": "skip"
    }
   },
   "source": [
    "Une fois fait la ligne 'Année' est superflu, nous pouvons donc la supprimer"
   ]
  },
  {
   "cell_type": "code",
   "execution_count": 6,
   "id": "b71f2bcb",
   "metadata": {
    "slideshow": {
     "slide_type": "skip"
    }
   },
   "outputs": [
    {
     "data": {
      "text/html": [
       "<div>\n",
       "<style scoped>\n",
       "    .dataframe tbody tr th:only-of-type {\n",
       "        vertical-align: middle;\n",
       "    }\n",
       "\n",
       "    .dataframe tbody tr th {\n",
       "        vertical-align: top;\n",
       "    }\n",
       "\n",
       "    .dataframe thead th {\n",
       "        text-align: right;\n",
       "    }\n",
       "</style>\n",
       "<table border=\"1\" class=\"dataframe\">\n",
       "  <thead>\n",
       "    <tr style=\"text-align: right;\">\n",
       "      <th></th>\n",
       "      <th>Zone</th>\n",
       "      <th>Valeur</th>\n",
       "    </tr>\n",
       "  </thead>\n",
       "  <tbody>\n",
       "    <tr>\n",
       "      <th>4</th>\n",
       "      <td>Afghanistan</td>\n",
       "      <td>36296.113</td>\n",
       "    </tr>\n",
       "    <tr>\n",
       "      <th>10</th>\n",
       "      <td>Afrique du Sud</td>\n",
       "      <td>57009.756</td>\n",
       "    </tr>\n",
       "    <tr>\n",
       "      <th>16</th>\n",
       "      <td>Albanie</td>\n",
       "      <td>2884.169</td>\n",
       "    </tr>\n",
       "    <tr>\n",
       "      <th>22</th>\n",
       "      <td>Algérie</td>\n",
       "      <td>41389.189</td>\n",
       "    </tr>\n",
       "    <tr>\n",
       "      <th>28</th>\n",
       "      <td>Allemagne</td>\n",
       "      <td>82658.409</td>\n",
       "    </tr>\n",
       "  </tbody>\n",
       "</table>\n",
       "</div>"
      ],
      "text/plain": [
       "              Zone     Valeur\n",
       "4      Afghanistan  36296.113\n",
       "10  Afrique du Sud  57009.756\n",
       "16         Albanie   2884.169\n",
       "22         Algérie  41389.189\n",
       "28       Allemagne  82658.409"
      ]
     },
     "execution_count": 6,
     "metadata": {},
     "output_type": "execute_result"
    }
   ],
   "source": [
    "pop=pop[['Zone', 'Valeur']]\n",
    "pop.head()"
   ]
  },
  {
   "cell_type": "markdown",
   "id": "615b3dd6",
   "metadata": {
    "slideshow": {
     "slide_type": "skip"
    }
   },
   "source": [
    "Nous allons également observer les statistiques des données "
   ]
  },
  {
   "cell_type": "code",
   "execution_count": 7,
   "id": "3f240f4f",
   "metadata": {
    "slideshow": {
     "slide_type": "skip"
    }
   },
   "outputs": [
    {
     "data": {
      "text/html": [
       "<div>\n",
       "<style scoped>\n",
       "    .dataframe tbody tr th:only-of-type {\n",
       "        vertical-align: middle;\n",
       "    }\n",
       "\n",
       "    .dataframe tbody tr th {\n",
       "        vertical-align: top;\n",
       "    }\n",
       "\n",
       "    .dataframe thead th {\n",
       "        text-align: right;\n",
       "    }\n",
       "</style>\n",
       "<table border=\"1\" class=\"dataframe\">\n",
       "  <thead>\n",
       "    <tr style=\"text-align: right;\">\n",
       "      <th></th>\n",
       "      <th>Valeur</th>\n",
       "    </tr>\n",
       "  </thead>\n",
       "  <tbody>\n",
       "    <tr>\n",
       "      <th>count</th>\n",
       "      <td>2.360000e+02</td>\n",
       "    </tr>\n",
       "    <tr>\n",
       "      <th>mean</th>\n",
       "      <td>3.198362e+04</td>\n",
       "    </tr>\n",
       "    <tr>\n",
       "      <th>std</th>\n",
       "      <td>1.318949e+05</td>\n",
       "    </tr>\n",
       "    <tr>\n",
       "      <th>min</th>\n",
       "      <td>7.930000e-01</td>\n",
       "    </tr>\n",
       "    <tr>\n",
       "      <th>25%</th>\n",
       "      <td>3.803032e+02</td>\n",
       "    </tr>\n",
       "    <tr>\n",
       "      <th>50%</th>\n",
       "      <td>5.203511e+03</td>\n",
       "    </tr>\n",
       "    <tr>\n",
       "      <th>75%</th>\n",
       "      <td>1.930842e+04</td>\n",
       "    </tr>\n",
       "    <tr>\n",
       "      <th>max</th>\n",
       "      <td>1.421022e+06</td>\n",
       "    </tr>\n",
       "  </tbody>\n",
       "</table>\n",
       "</div>"
      ],
      "text/plain": [
       "             Valeur\n",
       "count  2.360000e+02\n",
       "mean   3.198362e+04\n",
       "std    1.318949e+05\n",
       "min    7.930000e-01\n",
       "25%    3.803032e+02\n",
       "50%    5.203511e+03\n",
       "75%    1.930842e+04\n",
       "max    1.421022e+06"
      ]
     },
     "execution_count": 7,
     "metadata": {},
     "output_type": "execute_result"
    }
   ],
   "source": [
    "pop.describe()"
   ]
  },
  {
   "cell_type": "markdown",
   "id": "f8d68355",
   "metadata": {
    "slideshow": {
     "slide_type": "slide"
    }
   },
   "source": [
    "Nous observons que sur les 236 lignes du DataFrame il n'y a aucune valeur null"
   ]
  },
  {
   "cell_type": "code",
   "execution_count": 8,
   "id": "577dd189",
   "metadata": {
    "slideshow": {
     "slide_type": "fragment"
    }
   },
   "outputs": [
    {
     "name": "stdout",
     "output_type": "stream",
     "text": [
      "<class 'pandas.core.frame.DataFrame'>\n",
      "Int64Index: 236 entries, 4 to 1414\n",
      "Data columns (total 2 columns):\n",
      " #   Column  Non-Null Count  Dtype  \n",
      "---  ------  --------------  -----  \n",
      " 0   Zone    236 non-null    object \n",
      " 1   Valeur  236 non-null    float64\n",
      "dtypes: float64(1), object(1)\n",
      "memory usage: 5.5+ KB\n"
     ]
    }
   ],
   "source": [
    "pop.info()"
   ]
  },
  {
   "cell_type": "markdown",
   "id": "746bd6c1",
   "metadata": {
    "slideshow": {
     "slide_type": "slide"
    }
   },
   "source": [
    "### Sous-nutrition "
   ]
  },
  {
   "cell_type": "markdown",
   "id": "8eb912e7",
   "metadata": {
    "slideshow": {
     "slide_type": "fragment"
    }
   },
   "source": [
    "Prévisualisation des données "
   ]
  },
  {
   "cell_type": "code",
   "execution_count": 9,
   "id": "f59e83d6",
   "metadata": {
    "slideshow": {
     "slide_type": "fragment"
    }
   },
   "outputs": [
    {
     "data": {
      "text/html": [
       "<div>\n",
       "<style scoped>\n",
       "    .dataframe tbody tr th:only-of-type {\n",
       "        vertical-align: middle;\n",
       "    }\n",
       "\n",
       "    .dataframe tbody tr th {\n",
       "        vertical-align: top;\n",
       "    }\n",
       "\n",
       "    .dataframe thead th {\n",
       "        text-align: right;\n",
       "    }\n",
       "</style>\n",
       "<table border=\"1\" class=\"dataframe\">\n",
       "  <thead>\n",
       "    <tr style=\"text-align: right;\">\n",
       "      <th></th>\n",
       "      <th>Zone</th>\n",
       "      <th>Année</th>\n",
       "      <th>Valeur</th>\n",
       "    </tr>\n",
       "  </thead>\n",
       "  <tbody>\n",
       "    <tr>\n",
       "      <th>0</th>\n",
       "      <td>Afghanistan</td>\n",
       "      <td>2012-2014</td>\n",
       "      <td>8.6</td>\n",
       "    </tr>\n",
       "    <tr>\n",
       "      <th>1</th>\n",
       "      <td>Afghanistan</td>\n",
       "      <td>2013-2015</td>\n",
       "      <td>8.8</td>\n",
       "    </tr>\n",
       "    <tr>\n",
       "      <th>2</th>\n",
       "      <td>Afghanistan</td>\n",
       "      <td>2014-2016</td>\n",
       "      <td>8.9</td>\n",
       "    </tr>\n",
       "    <tr>\n",
       "      <th>3</th>\n",
       "      <td>Afghanistan</td>\n",
       "      <td>2015-2017</td>\n",
       "      <td>9.7</td>\n",
       "    </tr>\n",
       "    <tr>\n",
       "      <th>4</th>\n",
       "      <td>Afghanistan</td>\n",
       "      <td>2016-2018</td>\n",
       "      <td>10.5</td>\n",
       "    </tr>\n",
       "  </tbody>\n",
       "</table>\n",
       "</div>"
      ],
      "text/plain": [
       "          Zone      Année Valeur\n",
       "0  Afghanistan  2012-2014    8.6\n",
       "1  Afghanistan  2013-2015    8.8\n",
       "2  Afghanistan  2014-2016    8.9\n",
       "3  Afghanistan  2015-2017    9.7\n",
       "4  Afghanistan  2016-2018   10.5"
      ]
     },
     "execution_count": 9,
     "metadata": {},
     "output_type": "execute_result"
    }
   ],
   "source": [
    "sousnutg.head()"
   ]
  },
  {
   "cell_type": "markdown",
   "id": "025f7850",
   "metadata": {
    "slideshow": {
     "slide_type": "slide"
    }
   },
   "source": [
    "Les valeurs s'expriment en million de personnes "
   ]
  },
  {
   "cell_type": "markdown",
   "id": "36ec9aa4",
   "metadata": {
    "slideshow": {
     "slide_type": "slide"
    }
   },
   "source": [
    "Nous constatons qu'il existe des données pour plusieurs fourchettes d'années, or nous ne travaillons que sur l'année 2017. Nous allons donc supprimer les données inutiles et conserver la fourchette 2016-2018"
   ]
  },
  {
   "cell_type": "code",
   "execution_count": 10,
   "id": "5b99b4dd",
   "metadata": {
    "slideshow": {
     "slide_type": "fragment"
    }
   },
   "outputs": [
    {
     "data": {
      "text/html": [
       "<div>\n",
       "<style scoped>\n",
       "    .dataframe tbody tr th:only-of-type {\n",
       "        vertical-align: middle;\n",
       "    }\n",
       "\n",
       "    .dataframe tbody tr th {\n",
       "        vertical-align: top;\n",
       "    }\n",
       "\n",
       "    .dataframe thead th {\n",
       "        text-align: right;\n",
       "    }\n",
       "</style>\n",
       "<table border=\"1\" class=\"dataframe\">\n",
       "  <thead>\n",
       "    <tr style=\"text-align: right;\">\n",
       "      <th></th>\n",
       "      <th>Zone</th>\n",
       "      <th>Année</th>\n",
       "      <th>Valeur</th>\n",
       "    </tr>\n",
       "  </thead>\n",
       "  <tbody>\n",
       "    <tr>\n",
       "      <th>4</th>\n",
       "      <td>Afghanistan</td>\n",
       "      <td>2016-2018</td>\n",
       "      <td>10.5</td>\n",
       "    </tr>\n",
       "    <tr>\n",
       "      <th>10</th>\n",
       "      <td>Afrique du Sud</td>\n",
       "      <td>2016-2018</td>\n",
       "      <td>3.1</td>\n",
       "    </tr>\n",
       "    <tr>\n",
       "      <th>16</th>\n",
       "      <td>Albanie</td>\n",
       "      <td>2016-2018</td>\n",
       "      <td>0.1</td>\n",
       "    </tr>\n",
       "    <tr>\n",
       "      <th>22</th>\n",
       "      <td>Algérie</td>\n",
       "      <td>2016-2018</td>\n",
       "      <td>1.3</td>\n",
       "    </tr>\n",
       "    <tr>\n",
       "      <th>28</th>\n",
       "      <td>Allemagne</td>\n",
       "      <td>2016-2018</td>\n",
       "      <td>NaN</td>\n",
       "    </tr>\n",
       "  </tbody>\n",
       "</table>\n",
       "</div>"
      ],
      "text/plain": [
       "              Zone      Année Valeur\n",
       "4      Afghanistan  2016-2018   10.5\n",
       "10  Afrique du Sud  2016-2018    3.1\n",
       "16         Albanie  2016-2018    0.1\n",
       "22         Algérie  2016-2018    1.3\n",
       "28       Allemagne  2016-2018    NaN"
      ]
     },
     "execution_count": 10,
     "metadata": {},
     "output_type": "execute_result"
    }
   ],
   "source": [
    "sousnut=sousnutg[ sousnutg['Année']=='2016-2018']\n",
    "sousnut.head()"
   ]
  },
  {
   "cell_type": "markdown",
   "id": "3678e0bb",
   "metadata": {
    "slideshow": {
     "slide_type": "skip"
    }
   },
   "source": [
    "Nous pouvons également supprimer la colonne 'Année '"
   ]
  },
  {
   "cell_type": "code",
   "execution_count": 11,
   "id": "c79be3c0",
   "metadata": {
    "slideshow": {
     "slide_type": "skip"
    }
   },
   "outputs": [
    {
     "data": {
      "text/html": [
       "<div>\n",
       "<style scoped>\n",
       "    .dataframe tbody tr th:only-of-type {\n",
       "        vertical-align: middle;\n",
       "    }\n",
       "\n",
       "    .dataframe tbody tr th {\n",
       "        vertical-align: top;\n",
       "    }\n",
       "\n",
       "    .dataframe thead th {\n",
       "        text-align: right;\n",
       "    }\n",
       "</style>\n",
       "<table border=\"1\" class=\"dataframe\">\n",
       "  <thead>\n",
       "    <tr style=\"text-align: right;\">\n",
       "      <th></th>\n",
       "      <th>Zone</th>\n",
       "      <th>Valeur</th>\n",
       "    </tr>\n",
       "  </thead>\n",
       "  <tbody>\n",
       "    <tr>\n",
       "      <th>4</th>\n",
       "      <td>Afghanistan</td>\n",
       "      <td>10.5</td>\n",
       "    </tr>\n",
       "    <tr>\n",
       "      <th>10</th>\n",
       "      <td>Afrique du Sud</td>\n",
       "      <td>3.1</td>\n",
       "    </tr>\n",
       "    <tr>\n",
       "      <th>16</th>\n",
       "      <td>Albanie</td>\n",
       "      <td>0.1</td>\n",
       "    </tr>\n",
       "    <tr>\n",
       "      <th>22</th>\n",
       "      <td>Algérie</td>\n",
       "      <td>1.3</td>\n",
       "    </tr>\n",
       "    <tr>\n",
       "      <th>28</th>\n",
       "      <td>Allemagne</td>\n",
       "      <td>NaN</td>\n",
       "    </tr>\n",
       "  </tbody>\n",
       "</table>\n",
       "</div>"
      ],
      "text/plain": [
       "              Zone Valeur\n",
       "4      Afghanistan   10.5\n",
       "10  Afrique du Sud    3.1\n",
       "16         Albanie    0.1\n",
       "22         Algérie    1.3\n",
       "28       Allemagne    NaN"
      ]
     },
     "execution_count": 11,
     "metadata": {},
     "output_type": "execute_result"
    }
   ],
   "source": [
    "sousnut=sousnut[['Zone', 'Valeur']]\n",
    "sousnut.head()"
   ]
  },
  {
   "cell_type": "markdown",
   "id": "db4cb9bb",
   "metadata": {
    "slideshow": {
     "slide_type": "slide"
    }
   },
   "source": [
    "Nous constatons que déjà dans la prévisualisation il y a une valeur null. Nous allons donc voir combien il y a de valeur null"
   ]
  },
  {
   "cell_type": "code",
   "execution_count": 12,
   "id": "7a998cff",
   "metadata": {
    "slideshow": {
     "slide_type": "fragment"
    }
   },
   "outputs": [
    {
     "data": {
      "text/plain": [
       "Zone       0\n",
       "Valeur    99\n",
       "dtype: int64"
      ]
     },
     "execution_count": 12,
     "metadata": {},
     "output_type": "execute_result"
    }
   ],
   "source": [
    "sousnut.shape[0] - sousnut.count()"
   ]
  },
  {
   "cell_type": "markdown",
   "id": "546b0fd0",
   "metadata": {
    "slideshow": {
     "slide_type": "fragment"
    }
   },
   "source": [
    "   Il y a 99 valeurs manquantes "
   ]
  },
  {
   "cell_type": "code",
   "execution_count": 13,
   "id": "2fcced7e",
   "metadata": {
    "slideshow": {
     "slide_type": "skip"
    }
   },
   "outputs": [
    {
     "data": {
      "text/html": [
       "<div>\n",
       "<style scoped>\n",
       "    .dataframe tbody tr th:only-of-type {\n",
       "        vertical-align: middle;\n",
       "    }\n",
       "\n",
       "    .dataframe tbody tr th {\n",
       "        vertical-align: top;\n",
       "    }\n",
       "\n",
       "    .dataframe thead th {\n",
       "        text-align: right;\n",
       "    }\n",
       "</style>\n",
       "<table border=\"1\" class=\"dataframe\">\n",
       "  <thead>\n",
       "    <tr style=\"text-align: right;\">\n",
       "      <th></th>\n",
       "      <th>Zone</th>\n",
       "      <th>Valeur</th>\n",
       "    </tr>\n",
       "  </thead>\n",
       "  <tbody>\n",
       "    <tr>\n",
       "      <th>count</th>\n",
       "      <td>203</td>\n",
       "      <td>104</td>\n",
       "    </tr>\n",
       "    <tr>\n",
       "      <th>unique</th>\n",
       "      <td>203</td>\n",
       "      <td>50</td>\n",
       "    </tr>\n",
       "    <tr>\n",
       "      <th>top</th>\n",
       "      <td>Afghanistan</td>\n",
       "      <td>&lt;0.1</td>\n",
       "    </tr>\n",
       "    <tr>\n",
       "      <th>freq</th>\n",
       "      <td>1</td>\n",
       "      <td>20</td>\n",
       "    </tr>\n",
       "  </tbody>\n",
       "</table>\n",
       "</div>"
      ],
      "text/plain": [
       "               Zone Valeur\n",
       "count           203    104\n",
       "unique          203     50\n",
       "top     Afghanistan   <0.1\n",
       "freq              1     20"
      ]
     },
     "execution_count": 13,
     "metadata": {},
     "output_type": "execute_result"
    }
   ],
   "source": [
    "sousnut.describe()"
   ]
  },
  {
   "cell_type": "markdown",
   "id": "9ab63931",
   "metadata": {
    "slideshow": {
     "slide_type": "skip"
    }
   },
   "source": [
    "Il y a 203 lignes dans le Dataframe, si nous prenons en compte les 99 données manquantes :"
   ]
  },
  {
   "cell_type": "code",
   "execution_count": 14,
   "id": "e061c03d",
   "metadata": {
    "scrolled": true,
    "slideshow": {
     "slide_type": "skip"
    }
   },
   "outputs": [],
   "source": [
    "ine= round((sousnut['Valeur'].isnull().sum()*100)/len(sousnut),2)"
   ]
  },
  {
   "cell_type": "code",
   "execution_count": 15,
   "id": "453bbc26",
   "metadata": {
    "scrolled": true,
    "slideshow": {
     "slide_type": "skip"
    }
   },
   "outputs": [
    {
     "name": "stdout",
     "output_type": "stream",
     "text": [
      "Il y a 48.77 % de valeur manquantes \n"
     ]
    }
   ],
   "source": [
    "print('Il y a',ine,'% de valeur manquantes ')"
   ]
  },
  {
   "cell_type": "markdown",
   "id": "80ad6b71",
   "metadata": {
    "slideshow": {
     "slide_type": "slide"
    }
   },
   "source": [
    "Faisons la liste des pays où la valeur est manquante"
   ]
  },
  {
   "cell_type": "code",
   "execution_count": 16,
   "id": "74659012",
   "metadata": {
    "slideshow": {
     "slide_type": "fragment"
    }
   },
   "outputs": [],
   "source": [
    "valnul=sousnut.dropna()"
   ]
  },
  {
   "cell_type": "code",
   "execution_count": 17,
   "id": "dc76c685",
   "metadata": {
    "slideshow": {
     "slide_type": "fragment"
    }
   },
   "outputs": [],
   "source": [
    "diff = pd.concat([valnul,sousnut]).drop_duplicates(keep=False)"
   ]
  },
  {
   "cell_type": "code",
   "execution_count": 18,
   "id": "0d9c30d4",
   "metadata": {
    "slideshow": {
     "slide_type": "slide"
    }
   },
   "outputs": [
    {
     "data": {
      "text/plain": [
       "array(['Allemagne', 'Andorre', 'Antigua-et-Barbuda', 'Australie',\n",
       "       'Autriche', 'Azerbaïdjan', 'Bahamas', 'Bahreïn', 'Bélarus',\n",
       "       'Belgique', 'Bermudes', 'Bhoutan', 'Bosnie-Herzégovine', 'Brésil',\n",
       "       'Brunéi Darussalam', 'Burundi', 'Canada',\n",
       "       'Chine - RAS de Hong-Kong', 'Chine, continentale', 'Comores',\n",
       "       'Croatie', 'Cuba', 'Danemark', 'Djibouti', 'Érythrée', 'Espagne',\n",
       "       'Estonie', \"États-Unis d'Amérique\", 'Fédération de Russie',\n",
       "       'Finlande', 'France', 'Grèce', 'Grenade', 'Groenland', 'Guinée',\n",
       "       'Guinée équatoriale', 'Guinée-Bissau', 'Hongrie', 'Îles Cook',\n",
       "       'Îles Marshall', 'Irlande', 'Islande', 'Israël', 'Italie', 'Japon',\n",
       "       'Kazakhstan', 'Koweït', 'Lettonie', 'Libye', 'Lituanie',\n",
       "       'Luxembourg', 'Maldives', 'Malte', 'Micronésie (États fédérés de)',\n",
       "       'Monténégro', 'Nauru', 'Niger', 'Nioué', 'Norvège',\n",
       "       'Nouvelle-Zélande', 'Ouganda', 'Palaos', 'Palestine',\n",
       "       'Papouasie-Nouvelle-Guinée', 'Pays-Bas', 'Pologne', 'Porto Rico',\n",
       "       'Portugal', 'Qatar', 'République arabe syrienne',\n",
       "       'République centrafricaine', 'République de Corée',\n",
       "       'République de Moldova', 'République démocratique du Congo',\n",
       "       'République démocratique populaire lao', 'Roumanie',\n",
       "       \"Royaume-Uni de Grande-Bretagne et d'Irlande du Nord\",\n",
       "       'Sainte-Lucie', 'Saint-Kitts-et-Nevis', 'Samoa',\n",
       "       'Samoa américaines', 'Seychelles', 'Singapour', 'Slovénie',\n",
       "       'Somalie', 'Soudan du Sud', 'Suède', 'Suisse', 'Tadjikistan',\n",
       "       'Tchéquie', 'Tokélaou', 'Tonga', 'Tunisie', 'Turquie', 'Tuvalu',\n",
       "       'Uruguay', 'Yémen', 'Zambie', 'Zimbabwe'], dtype=object)"
      ]
     },
     "execution_count": 18,
     "metadata": {},
     "output_type": "execute_result"
    }
   ],
   "source": [
    "diff.Zone.unique()"
   ]
  },
  {
   "cell_type": "markdown",
   "id": "942db0d4",
   "metadata": {
    "slideshow": {
     "slide_type": "slide"
    }
   },
   "source": [
    "Nous constatons que dans les valeurs manquantes, il y a d'une part les pays industrialisés où la sous nutrition est supposée inexistante, et d'autre part les pays en grande difficultés ou en guerre où la situation est probablement problématique."
   ]
  },
  {
   "cell_type": "code",
   "execution_count": 19,
   "id": "51c150cc",
   "metadata": {
    "slideshow": {
     "slide_type": "slide"
    }
   },
   "outputs": [
    {
     "name": "stdout",
     "output_type": "stream",
     "text": [
      "<class 'pandas.core.frame.DataFrame'>\n",
      "Int64Index: 203 entries, 4 to 1216\n",
      "Data columns (total 2 columns):\n",
      " #   Column  Non-Null Count  Dtype \n",
      "---  ------  --------------  ----- \n",
      " 0   Zone    203 non-null    object\n",
      " 1   Valeur  104 non-null    object\n",
      "dtypes: object(2)\n",
      "memory usage: 4.8+ KB\n"
     ]
    }
   ],
   "source": [
    "sousnut.info()"
   ]
  },
  {
   "cell_type": "markdown",
   "id": "a3846322",
   "metadata": {
    "slideshow": {
     "slide_type": "fragment"
    }
   },
   "source": [
    "La valeur devrait être afficher dans un type numérique, voyons les données présentes"
   ]
  },
  {
   "cell_type": "code",
   "execution_count": 20,
   "id": "8c531597",
   "metadata": {
    "slideshow": {
     "slide_type": "slide"
    }
   },
   "outputs": [
    {
     "data": {
      "text/plain": [
       "array(['10.5', '3.1', '0.1', '1.3', nan, '5.8', '1.6', '1.5', '<0.1',\n",
       "       '21.5', '0.8', '1.7', '0.5', '0.2', '3.6', '2.4', '0.6', '0.9',\n",
       "       '2.7', '1.4', '4.9', '4.6', '0.3', '21.1', '2', '5.3', '190.1',\n",
       "       '23.6', '3.9', '9', '11.9', '0.4', '1.8', '1', '3.3', '8.4', '9.4',\n",
       "       '7.3', '1.1', '22.8', '24.8', '2.2', '15.7', '12', '13.4', '4.2',\n",
       "       '5', '5.7', '6.2', '8', '6.5'], dtype=object)"
      ]
     },
     "execution_count": 20,
     "metadata": {},
     "output_type": "execute_result"
    }
   ],
   "source": [
    "sousnut.Valeur.unique()"
   ]
  },
  {
   "cell_type": "markdown",
   "id": "9035c2b7",
   "metadata": {
    "slideshow": {
     "slide_type": "fragment"
    }
   },
   "source": [
    "Nous constatons qu'il y a \"<0.1\" (fin de première ligne), il faut donc supprimer ce symbole pour changer le type de donné. Nous allons convertir un <0.1 en 0.05 est une approximation qui parait acceptable "
   ]
  },
  {
   "cell_type": "code",
   "execution_count": 21,
   "id": "747a913b",
   "metadata": {
    "slideshow": {
     "slide_type": "slide"
    }
   },
   "outputs": [],
   "source": [
    "sousnut.loc[sousnut['Valeur']=='<0.1','Valeur']='0.05'"
   ]
  },
  {
   "cell_type": "markdown",
   "id": "8f0c00eb",
   "metadata": {
    "slideshow": {
     "slide_type": "skip"
    }
   },
   "source": [
    "sousnut.replace('<0.1','0.05',inplace=True,regex = True)"
   ]
  },
  {
   "cell_type": "code",
   "execution_count": 22,
   "id": "b1419f40",
   "metadata": {
    "slideshow": {
     "slide_type": "slide"
    }
   },
   "outputs": [
    {
     "name": "stdout",
     "output_type": "stream",
     "text": [
      "<class 'pandas.core.frame.DataFrame'>\n",
      "Int64Index: 203 entries, 4 to 1216\n",
      "Data columns (total 2 columns):\n",
      " #   Column  Non-Null Count  Dtype  \n",
      "---  ------  --------------  -----  \n",
      " 0   Zone    203 non-null    object \n",
      " 1   Valeur  104 non-null    float64\n",
      "dtypes: float64(1), object(1)\n",
      "memory usage: 4.8+ KB\n"
     ]
    }
   ],
   "source": [
    "sousnut = sousnut.astype({\"Zone\": object, \"Valeur\": float})\n",
    "sousnut.info()"
   ]
  },
  {
   "cell_type": "markdown",
   "id": "0199b2e3",
   "metadata": {
    "slideshow": {
     "slide_type": "slide"
    }
   },
   "source": [
    "### Disponibilité Alimentaire "
   ]
  },
  {
   "cell_type": "markdown",
   "id": "5f23f5f1",
   "metadata": {
    "slideshow": {
     "slide_type": "fragment"
    }
   },
   "source": [
    "Prévisualisation des données "
   ]
  },
  {
   "cell_type": "code",
   "execution_count": 23,
   "id": "80722829",
   "metadata": {
    "slideshow": {
     "slide_type": "slide"
    }
   },
   "outputs": [
    {
     "data": {
      "text/html": [
       "<div>\n",
       "<style scoped>\n",
       "    .dataframe tbody tr th:only-of-type {\n",
       "        vertical-align: middle;\n",
       "    }\n",
       "\n",
       "    .dataframe tbody tr th {\n",
       "        vertical-align: top;\n",
       "    }\n",
       "\n",
       "    .dataframe thead th {\n",
       "        text-align: right;\n",
       "    }\n",
       "</style>\n",
       "<table border=\"1\" class=\"dataframe\">\n",
       "  <thead>\n",
       "    <tr style=\"text-align: right;\">\n",
       "      <th></th>\n",
       "      <th>Zone</th>\n",
       "      <th>Produit</th>\n",
       "      <th>Origine</th>\n",
       "      <th>Aliments pour animaux</th>\n",
       "      <th>Autres Utilisations</th>\n",
       "      <th>Disponibilité alimentaire (Kcal/personne/jour)</th>\n",
       "      <th>Disponibilité alimentaire en quantité (kg/personne/an)</th>\n",
       "      <th>Disponibilité de matière grasse en quantité (g/personne/jour)</th>\n",
       "      <th>Disponibilité de protéines en quantité (g/personne/jour)</th>\n",
       "      <th>Disponibilité intérieure</th>\n",
       "      <th>Exportations - Quantité</th>\n",
       "      <th>Importations - Quantité</th>\n",
       "      <th>Nourriture</th>\n",
       "      <th>Pertes</th>\n",
       "      <th>Production</th>\n",
       "      <th>Semences</th>\n",
       "      <th>Traitement</th>\n",
       "      <th>Variation de stock</th>\n",
       "    </tr>\n",
       "  </thead>\n",
       "  <tbody>\n",
       "    <tr>\n",
       "      <th>0</th>\n",
       "      <td>Afghanistan</td>\n",
       "      <td>Abats Comestible</td>\n",
       "      <td>animale</td>\n",
       "      <td>NaN</td>\n",
       "      <td>NaN</td>\n",
       "      <td>5.0</td>\n",
       "      <td>1.72</td>\n",
       "      <td>0.20</td>\n",
       "      <td>0.77</td>\n",
       "      <td>53.0</td>\n",
       "      <td>NaN</td>\n",
       "      <td>NaN</td>\n",
       "      <td>53.0</td>\n",
       "      <td>NaN</td>\n",
       "      <td>53.0</td>\n",
       "      <td>NaN</td>\n",
       "      <td>NaN</td>\n",
       "      <td>NaN</td>\n",
       "    </tr>\n",
       "    <tr>\n",
       "      <th>1</th>\n",
       "      <td>Afghanistan</td>\n",
       "      <td>Agrumes, Autres</td>\n",
       "      <td>vegetale</td>\n",
       "      <td>NaN</td>\n",
       "      <td>NaN</td>\n",
       "      <td>1.0</td>\n",
       "      <td>1.29</td>\n",
       "      <td>0.01</td>\n",
       "      <td>0.02</td>\n",
       "      <td>41.0</td>\n",
       "      <td>2.0</td>\n",
       "      <td>40.0</td>\n",
       "      <td>39.0</td>\n",
       "      <td>2.0</td>\n",
       "      <td>3.0</td>\n",
       "      <td>NaN</td>\n",
       "      <td>NaN</td>\n",
       "      <td>NaN</td>\n",
       "    </tr>\n",
       "    <tr>\n",
       "      <th>2</th>\n",
       "      <td>Afghanistan</td>\n",
       "      <td>Aliments pour enfants</td>\n",
       "      <td>vegetale</td>\n",
       "      <td>NaN</td>\n",
       "      <td>NaN</td>\n",
       "      <td>1.0</td>\n",
       "      <td>0.06</td>\n",
       "      <td>0.01</td>\n",
       "      <td>0.03</td>\n",
       "      <td>2.0</td>\n",
       "      <td>NaN</td>\n",
       "      <td>2.0</td>\n",
       "      <td>2.0</td>\n",
       "      <td>NaN</td>\n",
       "      <td>NaN</td>\n",
       "      <td>NaN</td>\n",
       "      <td>NaN</td>\n",
       "      <td>NaN</td>\n",
       "    </tr>\n",
       "    <tr>\n",
       "      <th>3</th>\n",
       "      <td>Afghanistan</td>\n",
       "      <td>Ananas</td>\n",
       "      <td>vegetale</td>\n",
       "      <td>NaN</td>\n",
       "      <td>NaN</td>\n",
       "      <td>0.0</td>\n",
       "      <td>0.00</td>\n",
       "      <td>NaN</td>\n",
       "      <td>NaN</td>\n",
       "      <td>0.0</td>\n",
       "      <td>NaN</td>\n",
       "      <td>0.0</td>\n",
       "      <td>0.0</td>\n",
       "      <td>NaN</td>\n",
       "      <td>NaN</td>\n",
       "      <td>NaN</td>\n",
       "      <td>NaN</td>\n",
       "      <td>NaN</td>\n",
       "    </tr>\n",
       "    <tr>\n",
       "      <th>4</th>\n",
       "      <td>Afghanistan</td>\n",
       "      <td>Bananes</td>\n",
       "      <td>vegetale</td>\n",
       "      <td>NaN</td>\n",
       "      <td>NaN</td>\n",
       "      <td>4.0</td>\n",
       "      <td>2.70</td>\n",
       "      <td>0.02</td>\n",
       "      <td>0.05</td>\n",
       "      <td>82.0</td>\n",
       "      <td>NaN</td>\n",
       "      <td>82.0</td>\n",
       "      <td>82.0</td>\n",
       "      <td>NaN</td>\n",
       "      <td>NaN</td>\n",
       "      <td>NaN</td>\n",
       "      <td>NaN</td>\n",
       "      <td>NaN</td>\n",
       "    </tr>\n",
       "  </tbody>\n",
       "</table>\n",
       "</div>"
      ],
      "text/plain": [
       "          Zone                Produit   Origine  Aliments pour animaux  \\\n",
       "0  Afghanistan       Abats Comestible   animale                    NaN   \n",
       "1  Afghanistan        Agrumes, Autres  vegetale                    NaN   \n",
       "2  Afghanistan  Aliments pour enfants  vegetale                    NaN   \n",
       "3  Afghanistan                 Ananas  vegetale                    NaN   \n",
       "4  Afghanistan                Bananes  vegetale                    NaN   \n",
       "\n",
       "   Autres Utilisations  Disponibilité alimentaire (Kcal/personne/jour)  \\\n",
       "0                  NaN                                             5.0   \n",
       "1                  NaN                                             1.0   \n",
       "2                  NaN                                             1.0   \n",
       "3                  NaN                                             0.0   \n",
       "4                  NaN                                             4.0   \n",
       "\n",
       "   Disponibilité alimentaire en quantité (kg/personne/an)  \\\n",
       "0                                               1.72        \n",
       "1                                               1.29        \n",
       "2                                               0.06        \n",
       "3                                               0.00        \n",
       "4                                               2.70        \n",
       "\n",
       "   Disponibilité de matière grasse en quantité (g/personne/jour)  \\\n",
       "0                                               0.20               \n",
       "1                                               0.01               \n",
       "2                                               0.01               \n",
       "3                                                NaN               \n",
       "4                                               0.02               \n",
       "\n",
       "   Disponibilité de protéines en quantité (g/personne/jour)  \\\n",
       "0                                               0.77          \n",
       "1                                               0.02          \n",
       "2                                               0.03          \n",
       "3                                                NaN          \n",
       "4                                               0.05          \n",
       "\n",
       "   Disponibilité intérieure  Exportations - Quantité  Importations - Quantité  \\\n",
       "0                      53.0                      NaN                      NaN   \n",
       "1                      41.0                      2.0                     40.0   \n",
       "2                       2.0                      NaN                      2.0   \n",
       "3                       0.0                      NaN                      0.0   \n",
       "4                      82.0                      NaN                     82.0   \n",
       "\n",
       "   Nourriture  Pertes  Production  Semences  Traitement  Variation de stock  \n",
       "0        53.0     NaN        53.0       NaN         NaN                 NaN  \n",
       "1        39.0     2.0         3.0       NaN         NaN                 NaN  \n",
       "2         2.0     NaN         NaN       NaN         NaN                 NaN  \n",
       "3         0.0     NaN         NaN       NaN         NaN                 NaN  \n",
       "4        82.0     NaN         NaN       NaN         NaN                 NaN  "
      ]
     },
     "execution_count": 23,
     "metadata": {},
     "output_type": "execute_result"
    }
   ],
   "source": [
    "dispo.head()"
   ]
  },
  {
   "cell_type": "markdown",
   "id": "3d6dc384",
   "metadata": {
    "slideshow": {
     "slide_type": "slide"
    }
   },
   "source": [
    "   L'unité de valeur est précisé dans chaque collone, une erreur toutefois concernant 'Disponibilité alimentaire (Kcal/personne/jour)' la valeur n'est pas exprimé en Kcal mais en calorie (cf le document \"lexique de donnée\") pour corriger cela soit en modifiant les valeurs pour correspondre au titre soit modifier le titre. Modifier le titre me paraît plus simple et plus pertinent"
   ]
  },
  {
   "cell_type": "code",
   "execution_count": 24,
   "id": "6b53854b",
   "metadata": {
    "slideshow": {
     "slide_type": "fragment"
    }
   },
   "outputs": [
    {
     "data": {
      "text/html": [
       "<div>\n",
       "<style scoped>\n",
       "    .dataframe tbody tr th:only-of-type {\n",
       "        vertical-align: middle;\n",
       "    }\n",
       "\n",
       "    .dataframe tbody tr th {\n",
       "        vertical-align: top;\n",
       "    }\n",
       "\n",
       "    .dataframe thead th {\n",
       "        text-align: right;\n",
       "    }\n",
       "</style>\n",
       "<table border=\"1\" class=\"dataframe\">\n",
       "  <thead>\n",
       "    <tr style=\"text-align: right;\">\n",
       "      <th></th>\n",
       "      <th>Zone</th>\n",
       "      <th>Produit</th>\n",
       "      <th>Origine</th>\n",
       "      <th>Aliments pour animaux</th>\n",
       "      <th>Autres Utilisations</th>\n",
       "      <th>Disponibilité alimentaire (Cal/personne/jour)</th>\n",
       "      <th>Disponibilité alimentaire en quantité (kg/personne/an)</th>\n",
       "      <th>Disponibilité de matière grasse en quantité (g/personne/jour)</th>\n",
       "      <th>Disponibilité de protéines en quantité (g/personne/jour)</th>\n",
       "      <th>Disponibilité intérieure</th>\n",
       "      <th>Exportations - Quantité</th>\n",
       "      <th>Importations - Quantité</th>\n",
       "      <th>Nourriture</th>\n",
       "      <th>Pertes</th>\n",
       "      <th>Production</th>\n",
       "      <th>Semences</th>\n",
       "      <th>Traitement</th>\n",
       "      <th>Variation de stock</th>\n",
       "    </tr>\n",
       "  </thead>\n",
       "  <tbody>\n",
       "    <tr>\n",
       "      <th>0</th>\n",
       "      <td>Afghanistan</td>\n",
       "      <td>Abats Comestible</td>\n",
       "      <td>animale</td>\n",
       "      <td>NaN</td>\n",
       "      <td>NaN</td>\n",
       "      <td>5.0</td>\n",
       "      <td>1.72</td>\n",
       "      <td>0.20</td>\n",
       "      <td>0.77</td>\n",
       "      <td>53.0</td>\n",
       "      <td>NaN</td>\n",
       "      <td>NaN</td>\n",
       "      <td>53.0</td>\n",
       "      <td>NaN</td>\n",
       "      <td>53.0</td>\n",
       "      <td>NaN</td>\n",
       "      <td>NaN</td>\n",
       "      <td>NaN</td>\n",
       "    </tr>\n",
       "    <tr>\n",
       "      <th>1</th>\n",
       "      <td>Afghanistan</td>\n",
       "      <td>Agrumes, Autres</td>\n",
       "      <td>vegetale</td>\n",
       "      <td>NaN</td>\n",
       "      <td>NaN</td>\n",
       "      <td>1.0</td>\n",
       "      <td>1.29</td>\n",
       "      <td>0.01</td>\n",
       "      <td>0.02</td>\n",
       "      <td>41.0</td>\n",
       "      <td>2.0</td>\n",
       "      <td>40.0</td>\n",
       "      <td>39.0</td>\n",
       "      <td>2.0</td>\n",
       "      <td>3.0</td>\n",
       "      <td>NaN</td>\n",
       "      <td>NaN</td>\n",
       "      <td>NaN</td>\n",
       "    </tr>\n",
       "    <tr>\n",
       "      <th>2</th>\n",
       "      <td>Afghanistan</td>\n",
       "      <td>Aliments pour enfants</td>\n",
       "      <td>vegetale</td>\n",
       "      <td>NaN</td>\n",
       "      <td>NaN</td>\n",
       "      <td>1.0</td>\n",
       "      <td>0.06</td>\n",
       "      <td>0.01</td>\n",
       "      <td>0.03</td>\n",
       "      <td>2.0</td>\n",
       "      <td>NaN</td>\n",
       "      <td>2.0</td>\n",
       "      <td>2.0</td>\n",
       "      <td>NaN</td>\n",
       "      <td>NaN</td>\n",
       "      <td>NaN</td>\n",
       "      <td>NaN</td>\n",
       "      <td>NaN</td>\n",
       "    </tr>\n",
       "    <tr>\n",
       "      <th>3</th>\n",
       "      <td>Afghanistan</td>\n",
       "      <td>Ananas</td>\n",
       "      <td>vegetale</td>\n",
       "      <td>NaN</td>\n",
       "      <td>NaN</td>\n",
       "      <td>0.0</td>\n",
       "      <td>0.00</td>\n",
       "      <td>NaN</td>\n",
       "      <td>NaN</td>\n",
       "      <td>0.0</td>\n",
       "      <td>NaN</td>\n",
       "      <td>0.0</td>\n",
       "      <td>0.0</td>\n",
       "      <td>NaN</td>\n",
       "      <td>NaN</td>\n",
       "      <td>NaN</td>\n",
       "      <td>NaN</td>\n",
       "      <td>NaN</td>\n",
       "    </tr>\n",
       "    <tr>\n",
       "      <th>4</th>\n",
       "      <td>Afghanistan</td>\n",
       "      <td>Bananes</td>\n",
       "      <td>vegetale</td>\n",
       "      <td>NaN</td>\n",
       "      <td>NaN</td>\n",
       "      <td>4.0</td>\n",
       "      <td>2.70</td>\n",
       "      <td>0.02</td>\n",
       "      <td>0.05</td>\n",
       "      <td>82.0</td>\n",
       "      <td>NaN</td>\n",
       "      <td>82.0</td>\n",
       "      <td>82.0</td>\n",
       "      <td>NaN</td>\n",
       "      <td>NaN</td>\n",
       "      <td>NaN</td>\n",
       "      <td>NaN</td>\n",
       "      <td>NaN</td>\n",
       "    </tr>\n",
       "  </tbody>\n",
       "</table>\n",
       "</div>"
      ],
      "text/plain": [
       "          Zone                Produit   Origine  Aliments pour animaux  \\\n",
       "0  Afghanistan       Abats Comestible   animale                    NaN   \n",
       "1  Afghanistan        Agrumes, Autres  vegetale                    NaN   \n",
       "2  Afghanistan  Aliments pour enfants  vegetale                    NaN   \n",
       "3  Afghanistan                 Ananas  vegetale                    NaN   \n",
       "4  Afghanistan                Bananes  vegetale                    NaN   \n",
       "\n",
       "   Autres Utilisations  Disponibilité alimentaire (Cal/personne/jour)  \\\n",
       "0                  NaN                                            5.0   \n",
       "1                  NaN                                            1.0   \n",
       "2                  NaN                                            1.0   \n",
       "3                  NaN                                            0.0   \n",
       "4                  NaN                                            4.0   \n",
       "\n",
       "   Disponibilité alimentaire en quantité (kg/personne/an)  \\\n",
       "0                                               1.72        \n",
       "1                                               1.29        \n",
       "2                                               0.06        \n",
       "3                                               0.00        \n",
       "4                                               2.70        \n",
       "\n",
       "   Disponibilité de matière grasse en quantité (g/personne/jour)  \\\n",
       "0                                               0.20               \n",
       "1                                               0.01               \n",
       "2                                               0.01               \n",
       "3                                                NaN               \n",
       "4                                               0.02               \n",
       "\n",
       "   Disponibilité de protéines en quantité (g/personne/jour)  \\\n",
       "0                                               0.77          \n",
       "1                                               0.02          \n",
       "2                                               0.03          \n",
       "3                                                NaN          \n",
       "4                                               0.05          \n",
       "\n",
       "   Disponibilité intérieure  Exportations - Quantité  Importations - Quantité  \\\n",
       "0                      53.0                      NaN                      NaN   \n",
       "1                      41.0                      2.0                     40.0   \n",
       "2                       2.0                      NaN                      2.0   \n",
       "3                       0.0                      NaN                      0.0   \n",
       "4                      82.0                      NaN                     82.0   \n",
       "\n",
       "   Nourriture  Pertes  Production  Semences  Traitement  Variation de stock  \n",
       "0        53.0     NaN        53.0       NaN         NaN                 NaN  \n",
       "1        39.0     2.0         3.0       NaN         NaN                 NaN  \n",
       "2         2.0     NaN         NaN       NaN         NaN                 NaN  \n",
       "3         0.0     NaN         NaN       NaN         NaN                 NaN  \n",
       "4        82.0     NaN         NaN       NaN         NaN                 NaN  "
      ]
     },
     "execution_count": 24,
     "metadata": {},
     "output_type": "execute_result"
    }
   ],
   "source": [
    "dispo.rename(columns={'Disponibilité alimentaire (Kcal/personne/jour)': 'Disponibilité alimentaire (Cal/personne/jour)'}, inplace=True)\n",
    "dispo.head()"
   ]
  },
  {
   "cell_type": "markdown",
   "id": "076ac381",
   "metadata": {
    "slideshow": {
     "slide_type": "slide"
    }
   },
   "source": [
    "Nous pouvons avoir une visualisation du nombre de valeur null par catégorie "
   ]
  },
  {
   "cell_type": "code",
   "execution_count": 25,
   "id": "92ffae94",
   "metadata": {
    "slideshow": {
     "slide_type": "fragment"
    }
   },
   "outputs": [
    {
     "data": {
      "text/plain": [
       "Zone                                                                 0\n",
       "Produit                                                              0\n",
       "Origine                                                              0\n",
       "Aliments pour animaux                                            12885\n",
       "Autres Utilisations                                              10109\n",
       "Disponibilité alimentaire (Cal/personne/jour)                     1364\n",
       "Disponibilité alimentaire en quantité (kg/personne/an)            1590\n",
       "Disponibilité de matière grasse en quantité (g/personne/jour)     3811\n",
       "Disponibilité de protéines en quantité (g/personne/jour)          4044\n",
       "Disponibilité intérieure                                           223\n",
       "Exportations - Quantité                                           3379\n",
       "Importations - Quantité                                            753\n",
       "Nourriture                                                        1590\n",
       "Pertes                                                           11327\n",
       "Production                                                        6425\n",
       "Semences                                                         13514\n",
       "Traitement                                                       13313\n",
       "Variation de stock                                                8829\n",
       "dtype: int64"
      ]
     },
     "execution_count": 25,
     "metadata": {},
     "output_type": "execute_result"
    }
   ],
   "source": [
    "dispo.isnull().sum()"
   ]
  },
  {
   "cell_type": "markdown",
   "id": "d592cae1",
   "metadata": {
    "slideshow": {
     "slide_type": "slide"
    }
   },
   "source": [
    "Nous constatons que DataFrame original est riche en données, et décompose la disponibilité alimentaire en plusieurs catégorie d'aliments. Les données null dans chaque catégorie sont acceptable. Nous pourrions créer un DataFrame simplifié, comme par exemple une disponibilité alimentaire en Calories journalière individuel par Zone."
   ]
  },
  {
   "cell_type": "code",
   "execution_count": 26,
   "id": "7d70662d",
   "metadata": {
    "slideshow": {
     "slide_type": "fragment"
    }
   },
   "outputs": [
    {
     "data": {
      "text/html": [
       "<div>\n",
       "<style scoped>\n",
       "    .dataframe tbody tr th:only-of-type {\n",
       "        vertical-align: middle;\n",
       "    }\n",
       "\n",
       "    .dataframe tbody tr th {\n",
       "        vertical-align: top;\n",
       "    }\n",
       "\n",
       "    .dataframe thead th {\n",
       "        text-align: right;\n",
       "    }\n",
       "</style>\n",
       "<table border=\"1\" class=\"dataframe\">\n",
       "  <thead>\n",
       "    <tr style=\"text-align: right;\">\n",
       "      <th></th>\n",
       "      <th>Disponibilité alimentaire (Cal/personne/jour)</th>\n",
       "    </tr>\n",
       "    <tr>\n",
       "      <th>Zone</th>\n",
       "      <th></th>\n",
       "    </tr>\n",
       "  </thead>\n",
       "  <tbody>\n",
       "    <tr>\n",
       "      <th>Afghanistan</th>\n",
       "      <td>2087.0</td>\n",
       "    </tr>\n",
       "    <tr>\n",
       "      <th>Afrique du Sud</th>\n",
       "      <td>3020.0</td>\n",
       "    </tr>\n",
       "    <tr>\n",
       "      <th>Albanie</th>\n",
       "      <td>3188.0</td>\n",
       "    </tr>\n",
       "    <tr>\n",
       "      <th>Algérie</th>\n",
       "      <td>3293.0</td>\n",
       "    </tr>\n",
       "    <tr>\n",
       "      <th>Allemagne</th>\n",
       "      <td>3503.0</td>\n",
       "    </tr>\n",
       "  </tbody>\n",
       "</table>\n",
       "</div>"
      ],
      "text/plain": [
       "                Disponibilité alimentaire (Cal/personne/jour)\n",
       "Zone                                                         \n",
       "Afghanistan                                            2087.0\n",
       "Afrique du Sud                                         3020.0\n",
       "Albanie                                                3188.0\n",
       "Algérie                                                3293.0\n",
       "Allemagne                                              3503.0"
      ]
     },
     "execution_count": 26,
     "metadata": {},
     "output_type": "execute_result"
    }
   ],
   "source": [
    "dispopays=dispo.groupby(['Zone'])['Disponibilité alimentaire (Cal/personne/jour)'].agg('sum')\n",
    "dispopays=pd.DataFrame(dispopays) \n",
    "dispopays.head()"
   ]
  },
  {
   "cell_type": "markdown",
   "id": "18932d05",
   "metadata": {
    "slideshow": {
     "slide_type": "skip"
    }
   },
   "source": [
    "  Ce DataFrame offre une vision simplifiée de la disponibilité alimentaire qui permet de se faire un avis général sur la situation mondiale. Que l'on peut également globaliser avec :"
   ]
  },
  {
   "cell_type": "code",
   "execution_count": 27,
   "id": "8a3808ad",
   "metadata": {
    "slideshow": {
     "slide_type": "skip"
    }
   },
   "outputs": [
    {
     "data": {
      "text/html": [
       "<div>\n",
       "<style scoped>\n",
       "    .dataframe tbody tr th:only-of-type {\n",
       "        vertical-align: middle;\n",
       "    }\n",
       "\n",
       "    .dataframe tbody tr th {\n",
       "        vertical-align: top;\n",
       "    }\n",
       "\n",
       "    .dataframe thead th {\n",
       "        text-align: right;\n",
       "    }\n",
       "</style>\n",
       "<table border=\"1\" class=\"dataframe\">\n",
       "  <thead>\n",
       "    <tr style=\"text-align: right;\">\n",
       "      <th></th>\n",
       "      <th>Disponibilité alimentaire (Cal/personne/jour)</th>\n",
       "    </tr>\n",
       "  </thead>\n",
       "  <tbody>\n",
       "    <tr>\n",
       "      <th>count</th>\n",
       "      <td>174.000000</td>\n",
       "    </tr>\n",
       "    <tr>\n",
       "      <th>mean</th>\n",
       "      <td>2847.367816</td>\n",
       "    </tr>\n",
       "    <tr>\n",
       "      <th>std</th>\n",
       "      <td>438.546907</td>\n",
       "    </tr>\n",
       "    <tr>\n",
       "      <th>min</th>\n",
       "      <td>1879.000000</td>\n",
       "    </tr>\n",
       "    <tr>\n",
       "      <th>25%</th>\n",
       "      <td>2530.250000</td>\n",
       "    </tr>\n",
       "    <tr>\n",
       "      <th>50%</th>\n",
       "      <td>2830.500000</td>\n",
       "    </tr>\n",
       "    <tr>\n",
       "      <th>75%</th>\n",
       "      <td>3186.000000</td>\n",
       "    </tr>\n",
       "    <tr>\n",
       "      <th>max</th>\n",
       "      <td>3770.000000</td>\n",
       "    </tr>\n",
       "  </tbody>\n",
       "</table>\n",
       "</div>"
      ],
      "text/plain": [
       "       Disponibilité alimentaire (Cal/personne/jour)\n",
       "count                                     174.000000\n",
       "mean                                     2847.367816\n",
       "std                                       438.546907\n",
       "min                                      1879.000000\n",
       "25%                                      2530.250000\n",
       "50%                                      2830.500000\n",
       "75%                                      3186.000000\n",
       "max                                      3770.000000"
      ]
     },
     "execution_count": 27,
     "metadata": {},
     "output_type": "execute_result"
    }
   ],
   "source": [
    "dispopays.describe()"
   ]
  },
  {
   "cell_type": "markdown",
   "id": "1516d1f1",
   "metadata": {
    "slideshow": {
     "slide_type": "skip"
    }
   },
   "source": [
    "Bien évidemment le DataFrame \"dispopays\" n'est qu'un aperçu globale de la situation alimentaire "
   ]
  },
  {
   "cell_type": "markdown",
   "id": "d8f21187",
   "metadata": {
    "slideshow": {
     "slide_type": "slide"
    }
   },
   "source": [
    "### Aide Alimentaire "
   ]
  },
  {
   "cell_type": "code",
   "execution_count": 28,
   "id": "ced52f04",
   "metadata": {
    "slideshow": {
     "slide_type": "fragment"
    }
   },
   "outputs": [
    {
     "data": {
      "text/html": [
       "<div>\n",
       "<style scoped>\n",
       "    .dataframe tbody tr th:only-of-type {\n",
       "        vertical-align: middle;\n",
       "    }\n",
       "\n",
       "    .dataframe tbody tr th {\n",
       "        vertical-align: top;\n",
       "    }\n",
       "\n",
       "    .dataframe thead th {\n",
       "        text-align: right;\n",
       "    }\n",
       "</style>\n",
       "<table border=\"1\" class=\"dataframe\">\n",
       "  <thead>\n",
       "    <tr style=\"text-align: right;\">\n",
       "      <th></th>\n",
       "      <th>Pays bénéficiaire</th>\n",
       "      <th>Année</th>\n",
       "      <th>Produit</th>\n",
       "      <th>Valeur</th>\n",
       "    </tr>\n",
       "  </thead>\n",
       "  <tbody>\n",
       "    <tr>\n",
       "      <th>0</th>\n",
       "      <td>Afghanistan</td>\n",
       "      <td>2013</td>\n",
       "      <td>Autres non-céréales</td>\n",
       "      <td>682</td>\n",
       "    </tr>\n",
       "    <tr>\n",
       "      <th>1</th>\n",
       "      <td>Afghanistan</td>\n",
       "      <td>2014</td>\n",
       "      <td>Autres non-céréales</td>\n",
       "      <td>335</td>\n",
       "    </tr>\n",
       "    <tr>\n",
       "      <th>2</th>\n",
       "      <td>Afghanistan</td>\n",
       "      <td>2013</td>\n",
       "      <td>Blé et Farin</td>\n",
       "      <td>39224</td>\n",
       "    </tr>\n",
       "    <tr>\n",
       "      <th>3</th>\n",
       "      <td>Afghanistan</td>\n",
       "      <td>2014</td>\n",
       "      <td>Blé et Farin</td>\n",
       "      <td>15160</td>\n",
       "    </tr>\n",
       "    <tr>\n",
       "      <th>4</th>\n",
       "      <td>Afghanistan</td>\n",
       "      <td>2013</td>\n",
       "      <td>Céréales</td>\n",
       "      <td>40504</td>\n",
       "    </tr>\n",
       "  </tbody>\n",
       "</table>\n",
       "</div>"
      ],
      "text/plain": [
       "  Pays bénéficiaire  Année              Produit  Valeur\n",
       "0       Afghanistan   2013  Autres non-céréales     682\n",
       "1       Afghanistan   2014  Autres non-céréales     335\n",
       "2       Afghanistan   2013         Blé et Farin   39224\n",
       "3       Afghanistan   2014         Blé et Farin   15160\n",
       "4       Afghanistan   2013             Céréales   40504"
      ]
     },
     "execution_count": 28,
     "metadata": {},
     "output_type": "execute_result"
    }
   ],
   "source": [
    "aide.head()"
   ]
  },
  {
   "cell_type": "markdown",
   "id": "1a9e4be6",
   "metadata": {
    "slideshow": {
     "slide_type": "fragment"
    }
   },
   "source": [
    "La valeur est exprimée en tonne "
   ]
  },
  {
   "cell_type": "markdown",
   "id": "1dfe62b9",
   "metadata": {
    "slideshow": {
     "slide_type": "slide"
    }
   },
   "source": [
    "Voyons quelle Année est présente sur ce document "
   ]
  },
  {
   "cell_type": "code",
   "execution_count": 29,
   "id": "94b43be2",
   "metadata": {
    "slideshow": {
     "slide_type": "fragment"
    }
   },
   "outputs": [
    {
     "data": {
      "text/plain": [
       "array([2013, 2014, 2015, 2016], dtype=int64)"
      ]
     },
     "execution_count": 29,
     "metadata": {},
     "output_type": "execute_result"
    }
   ],
   "source": [
    "aide.Année.unique()"
   ]
  },
  {
   "cell_type": "markdown",
   "id": "dc77a849",
   "metadata": {
    "slideshow": {
     "slide_type": "slide"
    }
   },
   "source": [
    "## Première demande : la proportion de personnes en état de sous-nutrition "
   ]
  },
  {
   "cell_type": "code",
   "execution_count": 30,
   "id": "f86539f0",
   "metadata": {
    "slideshow": {
     "slide_type": "fragment"
    }
   },
   "outputs": [
    {
     "name": "stdout",
     "output_type": "stream",
     "text": [
      "En 2017, nous estimons qu'il y avait  7.548134111 habitants sur l'ensemble de la planète\n"
     ]
    }
   ],
   "source": [
    "poptotal=int(1000*pop['Valeur'].sum())\n",
    "popred=poptotal/1000000000\n",
    "print (\"En 2017, nous estimons qu'il y avait \",popred,\"habitants sur l'ensemble de la planète\")"
   ]
  },
  {
   "cell_type": "markdown",
   "id": "f30a13ec",
   "metadata": {
    "slideshow": {
     "slide_type": "slide"
    }
   },
   "source": [
    "Compte tenu du nombre de Valeurs manquantes dans les données de sous nutrition nous pouvons soit retirer simplement les données manquantes "
   ]
  },
  {
   "cell_type": "markdown",
   "id": "646d5f84",
   "metadata": {
    "slideshow": {
     "slide_type": "slide"
    }
   },
   "source": [
    "#### Méthode 1:Suppression des observations"
   ]
  },
  {
   "cell_type": "code",
   "execution_count": 31,
   "id": "8948efc0",
   "metadata": {
    "slideshow": {
     "slide_type": "fragment"
    }
   },
   "outputs": [],
   "source": [
    "sndrop=sousnut.dropna() #suppression des données null"
   ]
  },
  {
   "cell_type": "code",
   "execution_count": 32,
   "id": "c06856aa",
   "metadata": {
    "slideshow": {
     "slide_type": "fragment"
    }
   },
   "outputs": [
    {
     "name": "stdout",
     "output_type": "stream",
     "text": [
      "En 2017, selon nos estimations il y avait  536.7  millions habitants en sous nutrition sur les 104 pays référencés disposant d'une valeur \n"
     ]
    }
   ],
   "source": [
    "sousnuttotal=(1000000*sndrop['Valeur'].sum())\n",
    "nousnure=round(sousnuttotal/1000000,2)\n",
    "print (\"En 2017, selon nos estimations il y avait \",nousnure,\" millions habitants en sous nutrition sur les 104 pays référencés disposant d'une valeur \")"
   ]
  },
  {
   "cell_type": "code",
   "execution_count": 33,
   "id": "cc339eba",
   "metadata": {
    "slideshow": {
     "slide_type": "fragment"
    }
   },
   "outputs": [
    {
     "name": "stdout",
     "output_type": "stream",
     "text": [
      "En 2017, il y avait  7.11  % d'humain en sous nutrition sur l'ensemble des données non null soit 104 données\n"
     ]
    }
   ],
   "source": [
    "taux= round( (sousnuttotal*100)/poptotal,2)\n",
    "print (\"En 2017, il y avait \",taux,\" % d'humain en sous nutrition sur l'ensemble des données non null soit 104 données\")"
   ]
  },
  {
   "cell_type": "markdown",
   "id": "c303c074",
   "metadata": {
    "slideshow": {
     "slide_type": "slide"
    }
   },
   "source": [
    "#### Méthode 2: Imputation de données (médian)"
   ]
  },
  {
   "cell_type": "markdown",
   "id": "9e10fd70",
   "metadata": {
    "slideshow": {
     "slide_type": "fragment"
    }
   },
   "source": [
    "Nous pouvons également utiliser la méthode d'imputation soit par la moyenne soit la valeur médian. Commençons par la valeur médian."
   ]
  },
  {
   "cell_type": "code",
   "execution_count": 34,
   "id": "7b945528",
   "metadata": {
    "slideshow": {
     "slide_type": "fragment"
    }
   },
   "outputs": [],
   "source": [
    "median = sousnut['Valeur'].median() # calcul de la médiane \n",
    "snmed=sousnut.fillna(median) # remplacement des valeurs null"
   ]
  },
  {
   "cell_type": "code",
   "execution_count": 35,
   "id": "84fa8a5b",
   "metadata": {
    "slideshow": {
     "slide_type": "fragment"
    }
   },
   "outputs": [],
   "source": [
    "snmedtotal=(1000000*snmed['Valeur'].sum())\n",
    "snmedred=round(snmedtotal/1000000,2)"
   ]
  },
  {
   "cell_type": "code",
   "execution_count": 36,
   "id": "118e411b",
   "metadata": {
    "slideshow": {
     "slide_type": "fragment"
    }
   },
   "outputs": [
    {
     "name": "stdout",
     "output_type": "stream",
     "text": [
      "En 2017, nous estimons qu'il y avait  640.65  millions d'habitants en sous nutrition en appliquant une imputation de la médiane sur les 99 valeurs null\n"
     ]
    }
   ],
   "source": [
    "print (\"En 2017, nous estimons qu'il y avait \",snmedred,\" millions d'habitants en sous nutrition en appliquant une imputation de la médiane sur les 99 valeurs null\")"
   ]
  },
  {
   "cell_type": "code",
   "execution_count": 37,
   "id": "7fa650a6",
   "metadata": {
    "slideshow": {
     "slide_type": "slide"
    }
   },
   "outputs": [
    {
     "name": "stdout",
     "output_type": "stream",
     "text": [
      "En 2017, il y avait  8.49  % d'humain en sous nutrition sur l'ensemble des données non null soit 203 données\n"
     ]
    }
   ],
   "source": [
    "taux= round( (snmedtotal*100)/poptotal,2)\n",
    "print (\"En 2017, il y avait \",taux,\" % d'humain en sous nutrition sur l'ensemble des données non null soit 203 données\")"
   ]
  },
  {
   "cell_type": "markdown",
   "id": "95d65231",
   "metadata": {
    "slideshow": {
     "slide_type": "slide"
    }
   },
   "source": [
    "#### Méthode 3: Imputation de données (moyenne)"
   ]
  },
  {
   "cell_type": "code",
   "execution_count": 38,
   "id": "539b5647",
   "metadata": {
    "slideshow": {
     "slide_type": "fragment"
    }
   },
   "outputs": [],
   "source": [
    "moyenne = sousnut['Valeur'].mean() #calcul de la moyenne \n",
    "snmoy=sousnut.fillna(moyenne) #remplacement des valeurs null par la moyenne "
   ]
  },
  {
   "cell_type": "code",
   "execution_count": 39,
   "id": "1a779be6",
   "metadata": {
    "slideshow": {
     "slide_type": "fragment"
    }
   },
   "outputs": [],
   "source": [
    "snmoytotal=(1000000*snmoy['Valeur'].sum())\n",
    "snmoyred=round(snmoytotal/1000000000,2)"
   ]
  },
  {
   "cell_type": "code",
   "execution_count": 40,
   "id": "67057455",
   "metadata": {
    "slideshow": {
     "slide_type": "fragment"
    }
   },
   "outputs": [
    {
     "name": "stdout",
     "output_type": "stream",
     "text": [
      "En 2017, il y avait  1.05  milliard d'habitants en sous nutritionen appliquant une imputation de la moyenne sur les 99 valeurs null\n"
     ]
    }
   ],
   "source": [
    "print (\"En 2017, il y avait \",snmoyred,\" milliard d'habitants en sous nutritionen appliquant une imputation de la moyenne sur les 99 valeurs null\")"
   ]
  },
  {
   "cell_type": "code",
   "execution_count": 41,
   "id": "39ce91ef",
   "metadata": {
    "slideshow": {
     "slide_type": "slide"
    }
   },
   "outputs": [
    {
     "name": "stdout",
     "output_type": "stream",
     "text": [
      "En 2017, il y avait  13.88  % d'humain en sous nutrition sur l'ensemble des données non null soit 203 données\n"
     ]
    }
   ],
   "source": [
    "taux= round( (snmoytotal*100)/poptotal,2)\n",
    "print (\"En 2017, il y avait \",taux,\" % d'humain en sous nutrition sur l'ensemble des données non null soit 203 données\")"
   ]
  },
  {
   "cell_type": "markdown",
   "id": "6351e6b2",
   "metadata": {
    "slideshow": {
     "slide_type": "slide"
    }
   },
   "source": [
    "   Concernant les valeurs null, nous pourrions également observer les années précédentes afin d'établir une projection et le cas échéant observer les données présentent dans le voisinage géographique pour en projeter des données "
   ]
  },
  {
   "cell_type": "markdown",
   "id": "7d15f9ac",
   "metadata": {
    "slideshow": {
     "slide_type": "slide"
    }
   },
   "source": [
    "Pour conclure D'après nos estimations il y aurait entre  536.7  millions et 1.05  milliard de personnes en sous nutrition en 2017. C'est à dire entre  7.11 %  et 13.88 % de la population mondiale"
   ]
  },
  {
   "cell_type": "markdown",
   "id": "a952f38b",
   "metadata": {
    "slideshow": {
     "slide_type": "slide"
    }
   },
   "source": [
    "## Deuxième demande le nombre théorique de personnes qui pourraient être nourries"
   ]
  },
  {
   "cell_type": "markdown",
   "id": "b9aef621",
   "metadata": {
    "slideshow": {
     "slide_type": "fragment"
    }
   },
   "source": [
    "Calculons la moyenne de la disponibilité alimentaire ainsi que la population mondiale "
   ]
  },
  {
   "cell_type": "code",
   "execution_count": 42,
   "id": "4598581d",
   "metadata": {
    "slideshow": {
     "slide_type": "fragment"
    }
   },
   "outputs": [],
   "source": [
    "moy_dispo=dispopays['Disponibilité alimentaire (Cal/personne/jour)'].mean()\n",
    "poptotal=(pop['Valeur']*1000).sum()"
   ]
  },
  {
   "cell_type": "markdown",
   "id": "a034d2e5",
   "metadata": {
    "slideshow": {
     "slide_type": "slide"
    }
   },
   "source": [
    "D'après l'Organisation mondiale de la Santé, un homme doit consommer environ 2 500 kilocalories (Cal) par jour, contre 2 000 Cal/jour pour une femme. Nous allons donc prendre la donné la plus élevé soit 2500 Cal)"
   ]
  },
  {
   "cell_type": "markdown",
   "id": "c196c404",
   "metadata": {
    "slideshow": {
     "slide_type": "slide"
    }
   },
   "source": [
    "Multiplions cette moyenne par la population mondiale et considérons une valeur de 2500 Calories par personne."
   ]
  },
  {
   "cell_type": "code",
   "execution_count": 43,
   "id": "7b3ece2c",
   "metadata": {
    "slideshow": {
     "slide_type": "fragment"
    }
   },
   "outputs": [
    {
     "name": "stdout",
     "output_type": "stream",
     "text": [
      "Théoriquement il est possible de nourrir  8.6  milliards de personnes soit 113.89 % de la population actuelle\n"
     ]
    }
   ],
   "source": [
    "dispotheo=round((moy_dispo*poptotal)/2500)\n",
    "theored=round((dispotheo/1000000000),2)\n",
    "theorel=round((dispotheo*100)/poptotal,2)\n",
    "print('Théoriquement il est possible de nourrir ',theored,' milliards de personnes soit',theorel,'% de la population actuelle')"
   ]
  },
  {
   "cell_type": "markdown",
   "id": "c52a86d9",
   "metadata": {
    "slideshow": {
     "slide_type": "slide"
    }
   },
   "source": [
    "## Troisième demande: la disponibilité alimentaire des produits végétaux"
   ]
  },
  {
   "cell_type": "markdown",
   "id": "40c88379",
   "metadata": {
    "slideshow": {
     "slide_type": "fragment"
    }
   },
   "source": [
    "Appliquons un filtre afin de ne conserver que les produits végétaux"
   ]
  },
  {
   "cell_type": "code",
   "execution_count": 44,
   "id": "4acbc16a",
   "metadata": {
    "slideshow": {
     "slide_type": "fragment"
    }
   },
   "outputs": [],
   "source": [
    "dispovege=dispo[ dispo['Origine'] == 'vegetale' ] #Application du filtre"
   ]
  },
  {
   "cell_type": "code",
   "execution_count": 45,
   "id": "14f8e3e8",
   "metadata": {
    "slideshow": {
     "slide_type": "slide"
    }
   },
   "outputs": [],
   "source": [
    "dispopaysvege=dispovege.groupby(['Zone'])['Disponibilité alimentaire (Cal/personne/jour)'].agg('sum')\n",
    "dispopaysvege=pd.DataFrame(dispopaysvege) "
   ]
  },
  {
   "cell_type": "code",
   "execution_count": 46,
   "id": "31cf769d",
   "metadata": {
    "slideshow": {
     "slide_type": "fragment"
    }
   },
   "outputs": [],
   "source": [
    "moy_dispovege=dispopaysvege['Disponibilité alimentaire (Cal/personne/jour)'].mean()"
   ]
  },
  {
   "cell_type": "code",
   "execution_count": 47,
   "id": "5d20cfbd",
   "metadata": {
    "slideshow": {
     "slide_type": "fragment"
    }
   },
   "outputs": [
    {
     "name": "stdout",
     "output_type": "stream",
     "text": [
      "Théoriquement il est possible de nourrir  6.92  milliards de personnes si on ne compte que les aliments végétaux\n"
     ]
    }
   ],
   "source": [
    "dispotheov=round((moy_dispovege*poptotal)/2500)\n",
    "theovred=round((dispotheov/1000000000),2)\n",
    "print('Théoriquement il est possible de nourrir ',theovred,' milliards de personnes si on ne compte que les aliments végétaux')"
   ]
  },
  {
   "cell_type": "markdown",
   "id": "2083dc3b",
   "metadata": {
    "slideshow": {
     "slide_type": "slide"
    }
   },
   "source": [
    "## Quatrième demande: utilisation de la disponibilité intérieure, en particulier la part qui est attribuée à l’alimentation animale, celle qui est perdue et celle qui est concrètement utilisée pour l'alimentation humaine"
   ]
  },
  {
   "cell_type": "code",
   "execution_count": 48,
   "id": "66a604d1",
   "metadata": {
    "slideshow": {
     "slide_type": "slide"
    }
   },
   "outputs": [],
   "source": [
    "animaux= dispo['Aliments pour animaux'].sum() #somme de la consommation de l'alimentation animale"
   ]
  },
  {
   "cell_type": "code",
   "execution_count": 49,
   "id": "f0d753e9",
   "metadata": {
    "slideshow": {
     "slide_type": "fragment"
    }
   },
   "outputs": [],
   "source": [
    "expo=dispo['Exportations - Quantité'].sum() #somme de l'exportation"
   ]
  },
  {
   "cell_type": "code",
   "execution_count": 50,
   "id": "d008572c",
   "metadata": {
    "slideshow": {
     "slide_type": "fragment"
    }
   },
   "outputs": [],
   "source": [
    "nour=dispo['Nourriture'].sum() #somme de la consommation de l'alimentation humaine"
   ]
  },
  {
   "cell_type": "code",
   "execution_count": 51,
   "id": "edfca2f5",
   "metadata": {
    "slideshow": {
     "slide_type": "fragment"
    }
   },
   "outputs": [],
   "source": [
    "perte=dispo['Pertes'].sum() #somme des pertes "
   ]
  },
  {
   "cell_type": "code",
   "execution_count": 52,
   "id": "4aea0c89",
   "metadata": {
    "slideshow": {
     "slide_type": "fragment"
    }
   },
   "outputs": [],
   "source": [
    "sem=dispo['Semences'].sum() #somme de la consommation pour les semences "
   ]
  },
  {
   "cell_type": "code",
   "execution_count": 53,
   "id": "8072b34a",
   "metadata": {
    "slideshow": {
     "slide_type": "fragment"
    }
   },
   "outputs": [],
   "source": [
    "autre=dispo['Autres Utilisations'].sum()"
   ]
  },
  {
   "cell_type": "code",
   "execution_count": 54,
   "id": "a4ad66f5",
   "metadata": {
    "slideshow": {
     "slide_type": "fragment"
    }
   },
   "outputs": [],
   "source": [
    "trait=dispo['Traitement'].sum()"
   ]
  },
  {
   "cell_type": "markdown",
   "id": "336fca6b",
   "metadata": {
    "slideshow": {
     "slide_type": "slide"
    }
   },
   "source": [
    "#### Représentation graphique de la répartition de la consommation intérieure "
   ]
  },
  {
   "cell_type": "code",
   "execution_count": 55,
   "id": "4a835323",
   "metadata": {
    "slideshow": {
     "slide_type": "skip"
    }
   },
   "outputs": [
    {
     "data": {
      "text/plain": [
       "<Figure size 3600x3600 with 0 Axes>"
      ]
     },
     "execution_count": 55,
     "metadata": {},
     "output_type": "execute_result"
    },
    {
     "data": {
      "text/plain": [
       "<Figure size 3600x3600 with 0 Axes>"
      ]
     },
     "metadata": {},
     "output_type": "display_data"
    }
   ],
   "source": [
    "plt.figure(figsize=(50,50)) #préparation des dimensions"
   ]
  },
  {
   "cell_type": "code",
   "execution_count": 56,
   "id": "4471a027",
   "metadata": {
    "slideshow": {
     "slide_type": "slide"
    }
   },
   "outputs": [
    {
     "data": {
      "image/png": "[encoded data removed]",
      "text/plain": [
       "<Figure size 576x576 with 1 Axes>"
      ]
     },
     "metadata": {},
     "output_type": "display_data"
    }
   ],
   "source": [
    "plt.figure(figsize=(8,8))\n",
    "x = np.array([animaux, nour ,perte,expo, sem,autre,trait])\n",
    "label =['Aliments pour animaux', 'Nourriture','Pertes', 'Export', 'Semences','Autres','Traitement']\n",
    "plt.pie(x, labels=list(label), counterclock=False, autopct='%1.1f%%' ,explode=(0.1, 0.1, 0.1, 0,0,0,0))\n",
    "plt.show()"
   ]
  },
  {
   "cell_type": "markdown",
   "id": "3fc1c5de",
   "metadata": {
    "slideshow": {
     "slide_type": "slide"
    }
   },
   "source": [
    "#### Répartiton de la consommation des céréales "
   ]
  },
  {
   "cell_type": "markdown",
   "id": "742064b8",
   "metadata": {
    "slideshow": {
     "slide_type": "fragment"
    }
   },
   "source": [
    "Avant tout observons la liste des produits existants "
   ]
  },
  {
   "cell_type": "code",
   "execution_count": 57,
   "id": "c6e6392b",
   "metadata": {
    "slideshow": {
     "slide_type": "fragment"
    }
   },
   "outputs": [
    {
     "data": {
      "text/plain": [
       "array(['Agrumes, Autres', 'Aliments pour enfants', 'Ananas', 'Bananes',\n",
       "       'Bière', 'Blé', 'Boissons Alcooliques', 'Café',\n",
       "       'Coco (Incl Coprah)', 'Céréales, Autres', 'Dattes',\n",
       "       'Edulcorants Autres', 'Feve de Cacao', 'Fruits, Autres',\n",
       "       'Graines de coton', 'Graines de tournesol',\n",
       "       'Huil Plantes Oleif Autr', 'Huile Graines de Coton',\n",
       "       \"Huile d'Arachide\", \"Huile d'Olive\", 'Huile de Colza&Moutarde',\n",
       "       'Huile de Palme', 'Huile de Soja', 'Huile de Sésame',\n",
       "       'Huile de Tournesol', 'Légumes, Autres', 'Légumineuses Autres',\n",
       "       'Maïs', 'Miel', 'Millet', 'Miscellanees', 'Noix', 'Olives',\n",
       "       'Oranges, Mandarines', 'Orge', 'Plantes Oleiferes, Autre',\n",
       "       'Poivre', 'Pommes', 'Pommes de Terre', 'Raisin',\n",
       "       'Riz (Eq Blanchi)', 'Sucre Eq Brut', 'Sucre, betterave',\n",
       "       'Sucre, canne', 'Sésame', 'Thé', 'Tomates', 'Vin',\n",
       "       'Épices, Autres', 'Alcool, non Comestible',\n",
       "       'Arachides Decortiquees', 'Avoine', 'Bananes plantains',\n",
       "       'Boissons Fermentés', 'Citrons & Limes', 'Girofles',\n",
       "       'Graines Colza/Moutarde', 'Haricots', 'Huile de Coco',\n",
       "       'Huile de Germe de Maïs', 'Huile de Palmistes', 'Ignames',\n",
       "       'Manioc', 'Oignons', 'Palmistes', 'Pamplemousse', 'Patates douces',\n",
       "       'Piments', 'Pois', 'Racines nda', 'Seigle', 'Soja', 'Sorgho',\n",
       "       'Huile de Son de Riz', 'Sucre non centrifugé'], dtype=object)"
      ]
     },
     "execution_count": 57,
     "metadata": {},
     "output_type": "execute_result"
    }
   ],
   "source": [
    "dispovege.Produit.unique()"
   ]
  },
  {
   "cell_type": "markdown",
   "id": "cb525637",
   "metadata": {
    "slideshow": {
     "slide_type": "slide"
    }
   },
   "source": [
    "Appliquons un filtre afin de ne conserver que les céréales "
   ]
  },
  {
   "cell_type": "code",
   "execution_count": 58,
   "id": "428f0c7f",
   "metadata": {
    "slideshow": {
     "slide_type": "fragment"
    }
   },
   "outputs": [],
   "source": [
    "cere=['Seigle', 'Maïs','Blé','Céréales, Autres','Millet','Orge','Sésame','Avoine','Seigle','Sorgho','Graines Colza/Moutarde',\n",
    "      'Riz (Eq Blanchi)']\n",
    "cereale= dispovege[dispovege.Produit.isin(cere)]"
   ]
  },
  {
   "cell_type": "markdown",
   "id": "7e466ca6",
   "metadata": {
    "slideshow": {
     "slide_type": "slide"
    }
   },
   "source": [
    "Faisons la somme des deux données nous interessant afin de calculer la proportion."
   ]
  },
  {
   "cell_type": "code",
   "execution_count": 59,
   "id": "7864b838",
   "metadata": {
    "slideshow": {
     "slide_type": "fragment"
    }
   },
   "outputs": [],
   "source": [
    "totalcere=cereale['Nourriture'].sum()+cereale['Aliments pour animaux'].sum()"
   ]
  },
  {
   "cell_type": "code",
   "execution_count": 60,
   "id": "f04fadaf",
   "metadata": {
    "slideshow": {
     "slide_type": "fragment"
    }
   },
   "outputs": [
    {
     "name": "stdout",
     "output_type": "stream",
     "text": [
      "L'alimentation humaine représente  53.97 % de la consommation \n"
     ]
    }
   ],
   "source": [
    "cereale_nour=cereale['Nourriture'].sum()\n",
    "taux_nour=round((cereale_nour*100)/totalcere,2)\n",
    "print(\"L'alimentation humaine représente \",taux_nour,\"% de la consommation \")"
   ]
  },
  {
   "cell_type": "code",
   "execution_count": 61,
   "id": "3d4de6fd",
   "metadata": {
    "slideshow": {
     "slide_type": "fragment"
    }
   },
   "outputs": [
    {
     "name": "stdout",
     "output_type": "stream",
     "text": [
      "L'alimentation animale représente  46.03 % de la consommation \n"
     ]
    }
   ],
   "source": [
    "cereale_ani=cereale['Aliments pour animaux'].sum()\n",
    "taux_ani=round((cereale_ani*100)/totalcere,2)\n",
    "print(\"L'alimentation animale représente \",taux_ani,\"% de la consommation \")"
   ]
  },
  {
   "cell_type": "markdown",
   "id": "98539f37",
   "metadata": {
    "slideshow": {
     "slide_type": "slide"
    }
   },
   "source": [
    "Faisons un graphique circulaire pour imager ces proportions"
   ]
  },
  {
   "cell_type": "code",
   "execution_count": 62,
   "id": "5d242a60",
   "metadata": {
    "slideshow": {
     "slide_type": "skip"
    }
   },
   "outputs": [
    {
     "data": {
      "text/plain": [
       "<Figure size 3600x3600 with 0 Axes>"
      ]
     },
     "execution_count": 62,
     "metadata": {},
     "output_type": "execute_result"
    },
    {
     "data": {
      "text/plain": [
       "<Figure size 3600x3600 with 0 Axes>"
      ]
     },
     "metadata": {},
     "output_type": "display_data"
    }
   ],
   "source": [
    "plt.figure(figsize=(50,50)) #préparation des dimensions"
   ]
  },
  {
   "cell_type": "code",
   "execution_count": 63,
   "id": "ca60af31",
   "metadata": {
    "slideshow": {
     "slide_type": "slide"
    }
   },
   "outputs": [
    {
     "data": {
      "image/png": "[encoded data removed]",
      "text/plain": [
       "<Figure size 504x504 with 1 Axes>"
      ]
     },
     "metadata": {},
     "output_type": "display_data"
    }
   ],
   "source": [
    "plt.figure(figsize=(7,7))\n",
    "x = np.array([cereale_nour,cereale_ani])\n",
    "label =['Nourriture','Aliments pour animaux' ]\n",
    "plt.pie(x, labels=list(label), counterclock=False, explode=(0, 0))\n",
    "plt.show()"
   ]
  },
  {
   "cell_type": "markdown",
   "id": "15764cd1",
   "metadata": {
    "slideshow": {
     "slide_type": "slide"
    }
   },
   "source": [
    "A présent remettons ces 2 donnés en perspective avec les autres utilisations des céréales "
   ]
  },
  {
   "cell_type": "code",
   "execution_count": 64,
   "id": "fe78e580",
   "metadata": {
    "slideshow": {
     "slide_type": "fragment"
    }
   },
   "outputs": [],
   "source": [
    "expo_cere=cereale['Exportations - Quantité'].sum() #somme de l'exportation"
   ]
  },
  {
   "cell_type": "code",
   "execution_count": 65,
   "id": "5cfcd418",
   "metadata": {
    "slideshow": {
     "slide_type": "fragment"
    }
   },
   "outputs": [],
   "source": [
    "perte_cere=cereale['Pertes'].sum() #somme des pertes "
   ]
  },
  {
   "cell_type": "code",
   "execution_count": 66,
   "id": "75c59ca2",
   "metadata": {
    "slideshow": {
     "slide_type": "fragment"
    }
   },
   "outputs": [],
   "source": [
    "sem_cere=cereale['Semences'].sum() #somme de la consommation pour les semences "
   ]
  },
  {
   "cell_type": "code",
   "execution_count": 67,
   "id": "dc8b081d",
   "metadata": {
    "slideshow": {
     "slide_type": "fragment"
    }
   },
   "outputs": [],
   "source": [
    "autre_cere=cereale['Autres Utilisations'].sum()"
   ]
  },
  {
   "cell_type": "code",
   "execution_count": 68,
   "id": "e4484d6a",
   "metadata": {
    "slideshow": {
     "slide_type": "fragment"
    }
   },
   "outputs": [],
   "source": [
    "trait_cere=cereale['Traitement'].sum()"
   ]
  },
  {
   "cell_type": "markdown",
   "id": "de042a66",
   "metadata": {
    "slideshow": {
     "slide_type": "slide"
    }
   },
   "source": [
    "Puis une représentation graphique "
   ]
  },
  {
   "cell_type": "code",
   "execution_count": 69,
   "id": "05f197ec",
   "metadata": {
    "slideshow": {
     "slide_type": "slide"
    }
   },
   "outputs": [
    {
     "data": {
      "image/png": "[encoded data removed]",
      "text/plain": [
       "<Figure size 720x720 with 1 Axes>"
      ]
     },
     "metadata": {},
     "output_type": "display_data"
    }
   ],
   "source": [
    "plt.figure(figsize=(10,10))\n",
    "x = np.array([cereale_ani, cereale_nour ,perte_cere,expo_cere, sem_cere,autre_cere,trait_cere])\n",
    "label =['Aliments pour animaux', 'Nourriture','Pertes', 'Export', 'Semences','Autres','Traitement']\n",
    "plt.pie(x, labels=list(label), counterclock=False, autopct='%1.1f%%' ,explode=(0, 0, 0, 0,0,0,0))\n",
    "plt.show()"
   ]
  },
  {
   "cell_type": "markdown",
   "id": "8699a039",
   "metadata": {
    "slideshow": {
     "slide_type": "slide"
    }
   },
   "source": [
    "#### Utilisation du manioc en Thailand"
   ]
  },
  {
   "cell_type": "code",
   "execution_count": 70,
   "id": "e834fd95",
   "metadata": {
    "slideshow": {
     "slide_type": "fragment"
    }
   },
   "outputs": [],
   "source": [
    " #Application du filtre\n",
    "thai=dispo[(dispo['Zone'] == 'Thaïlande')]"
   ]
  },
  {
   "cell_type": "code",
   "execution_count": 71,
   "id": "c3c6bfb9",
   "metadata": {
    "slideshow": {
     "slide_type": "fragment"
    }
   },
   "outputs": [],
   "source": [
    "thaimanio=thai[thai['Produit']=='Manioc']"
   ]
  },
  {
   "cell_type": "code",
   "execution_count": 72,
   "id": "b1f57584",
   "metadata": {
    "slideshow": {
     "slide_type": "fragment"
    }
   },
   "outputs": [],
   "source": [
    "snthai=sousnut[sousnut['Zone']=='Thaïlande']"
   ]
  },
  {
   "cell_type": "markdown",
   "id": "bc81e2f5",
   "metadata": {
    "slideshow": {
     "slide_type": "slide"
    }
   },
   "source": [
    "####  Calcul du nombre potentiel de personne nourri par le manioc exporté"
   ]
  },
  {
   "cell_type": "markdown",
   "id": "38de86bf",
   "metadata": {
    "slideshow": {
     "slide_type": "fragment"
    }
   },
   "source": [
    "Calcul de la disponibilité alimentaire annuel en Calorie/personne/an du manioc"
   ]
  },
  {
   "cell_type": "code",
   "execution_count": 73,
   "id": "781f46e0",
   "metadata": {
    "slideshow": {
     "slide_type": "fragment"
    }
   },
   "outputs": [
    {
     "data": {
      "text/html": [
       "<div>\n",
       "<style scoped>\n",
       "    .dataframe tbody tr th:only-of-type {\n",
       "        vertical-align: middle;\n",
       "    }\n",
       "\n",
       "    .dataframe tbody tr th {\n",
       "        vertical-align: top;\n",
       "    }\n",
       "\n",
       "    .dataframe thead th {\n",
       "        text-align: right;\n",
       "    }\n",
       "</style>\n",
       "<table border=\"1\" class=\"dataframe\">\n",
       "  <thead>\n",
       "    <tr style=\"text-align: right;\">\n",
       "      <th></th>\n",
       "      <th>Zone</th>\n",
       "      <th>Produit</th>\n",
       "      <th>Origine</th>\n",
       "      <th>Aliments pour animaux</th>\n",
       "      <th>Autres Utilisations</th>\n",
       "      <th>Disponibilité alimentaire (Cal/personne/jour)</th>\n",
       "      <th>Disponibilité alimentaire en quantité (kg/personne/an)</th>\n",
       "      <th>Disponibilité de matière grasse en quantité (g/personne/jour)</th>\n",
       "      <th>Disponibilité de protéines en quantité (g/personne/jour)</th>\n",
       "      <th>Disponibilité intérieure</th>\n",
       "      <th>Exportations - Quantité</th>\n",
       "      <th>Importations - Quantité</th>\n",
       "      <th>Nourriture</th>\n",
       "      <th>Pertes</th>\n",
       "      <th>Production</th>\n",
       "      <th>Semences</th>\n",
       "      <th>Traitement</th>\n",
       "      <th>Variation de stock</th>\n",
       "    </tr>\n",
       "  </thead>\n",
       "  <tbody>\n",
       "    <tr>\n",
       "      <th>13809</th>\n",
       "      <td>Thaïlande</td>\n",
       "      <td>Manioc</td>\n",
       "      <td>vegetale</td>\n",
       "      <td>1800.0</td>\n",
       "      <td>2081.0</td>\n",
       "      <td>40.0</td>\n",
       "      <td>13.0</td>\n",
       "      <td>0.05</td>\n",
       "      <td>0.14</td>\n",
       "      <td>6264.0</td>\n",
       "      <td>25214.0</td>\n",
       "      <td>1250.0</td>\n",
       "      <td>871.0</td>\n",
       "      <td>1511.0</td>\n",
       "      <td>30228.0</td>\n",
       "      <td>NaN</td>\n",
       "      <td>0.0</td>\n",
       "      <td>0.0</td>\n",
       "    </tr>\n",
       "  </tbody>\n",
       "</table>\n",
       "</div>"
      ],
      "text/plain": [
       "            Zone Produit   Origine  Aliments pour animaux  \\\n",
       "13809  Thaïlande  Manioc  vegetale                 1800.0   \n",
       "\n",
       "       Autres Utilisations  Disponibilité alimentaire (Cal/personne/jour)  \\\n",
       "13809               2081.0                                           40.0   \n",
       "\n",
       "       Disponibilité alimentaire en quantité (kg/personne/an)  \\\n",
       "13809                                               13.0        \n",
       "\n",
       "       Disponibilité de matière grasse en quantité (g/personne/jour)  \\\n",
       "13809                                               0.05               \n",
       "\n",
       "       Disponibilité de protéines en quantité (g/personne/jour)  \\\n",
       "13809                                               0.14          \n",
       "\n",
       "       Disponibilité intérieure  Exportations - Quantité  \\\n",
       "13809                    6264.0                  25214.0   \n",
       "\n",
       "       Importations - Quantité  Nourriture  Pertes  Production  Semences  \\\n",
       "13809                   1250.0       871.0  1511.0     30228.0       NaN   \n",
       "\n",
       "       Traitement  Variation de stock  \n",
       "13809         0.0                 0.0  "
      ]
     },
     "execution_count": 73,
     "metadata": {},
     "output_type": "execute_result"
    }
   ],
   "source": [
    "thaimanio.head()"
   ]
  },
  {
   "cell_type": "markdown",
   "id": "4670be95",
   "metadata": {
    "slideshow": {
     "slide_type": "slide"
    }
   },
   "source": [
    "Après recherche, le manioc a un apport énergétique de 159 calories pour 100g soit 1590 par kg où 1 590 000 la tonne."
   ]
  },
  {
   "cell_type": "markdown",
   "id": "6693455b",
   "metadata": {
    "slideshow": {
     "slide_type": "fragment"
    }
   },
   "source": [
    "Calculons l'équivalent énergétique exporté concernant le manioc"
   ]
  },
  {
   "cell_type": "code",
   "execution_count": 74,
   "id": "2565335d",
   "metadata": {
    "slideshow": {
     "slide_type": "fragment"
    }
   },
   "outputs": [],
   "source": [
    "calton=1590000\n",
    "calexp=calton*thaimanio['Exportations - Quantité']"
   ]
  },
  {
   "cell_type": "markdown",
   "id": "fa5d9b6a",
   "metadata": {
    "slideshow": {
     "slide_type": "slide"
    }
   },
   "source": [
    "Nous venons de calculer l'équivalent calorique exporté annuellement, voyons combien de personnes peuvent être nourrit quotidiennement"
   ]
  },
  {
   "cell_type": "code",
   "execution_count": 75,
   "id": "de2f7f36",
   "metadata": {
    "slideshow": {
     "slide_type": "fragment"
    }
   },
   "outputs": [],
   "source": [
    "caljour=round(calexp/(365*2500))\n"
   ]
  },
  {
   "cell_type": "code",
   "execution_count": 76,
   "id": "6c619365",
   "metadata": {
    "slideshow": {
     "slide_type": "fragment"
    }
   },
   "outputs": [
    {
     "name": "stdout",
     "output_type": "stream",
     "text": [
      "Le manioc exporté pourrait nourrir 43935.0 personnes\n"
     ]
    }
   ],
   "source": [
    "print('Le manioc exporté pourrait nourrir','{:0}'.format(caljour.iloc[0]),'personnes')"
   ]
  },
  {
   "cell_type": "markdown",
   "id": "ff319b20",
   "metadata": {
    "slideshow": {
     "slide_type": "slide"
    }
   },
   "source": [
    "#### Exportation de manioc par rapport aux autres exportations "
   ]
  },
  {
   "cell_type": "code",
   "execution_count": 77,
   "id": "9e197784",
   "metadata": {
    "slideshow": {
     "slide_type": "fragment"
    }
   },
   "outputs": [
    {
     "data": {
      "text/html": [
       "<div>\n",
       "<style scoped>\n",
       "    .dataframe tbody tr th:only-of-type {\n",
       "        vertical-align: middle;\n",
       "    }\n",
       "\n",
       "    .dataframe tbody tr th {\n",
       "        vertical-align: top;\n",
       "    }\n",
       "\n",
       "    .dataframe thead th {\n",
       "        text-align: right;\n",
       "    }\n",
       "</style>\n",
       "<table border=\"1\" class=\"dataframe\">\n",
       "  <thead>\n",
       "    <tr style=\"text-align: right;\">\n",
       "      <th></th>\n",
       "      <th>Produit</th>\n",
       "      <th>Exportations - Quantité</th>\n",
       "    </tr>\n",
       "  </thead>\n",
       "  <tbody>\n",
       "    <tr>\n",
       "      <th>13759</th>\n",
       "      <td>Abats Comestible</td>\n",
       "      <td>5.0</td>\n",
       "    </tr>\n",
       "    <tr>\n",
       "      <th>13760</th>\n",
       "      <td>Agrumes, Autres</td>\n",
       "      <td>6.0</td>\n",
       "    </tr>\n",
       "    <tr>\n",
       "      <th>13761</th>\n",
       "      <td>Alcool, non Comestible</td>\n",
       "      <td>110.0</td>\n",
       "    </tr>\n",
       "    <tr>\n",
       "      <th>13762</th>\n",
       "      <td>Aliments pour enfants</td>\n",
       "      <td>7.0</td>\n",
       "    </tr>\n",
       "    <tr>\n",
       "      <th>13763</th>\n",
       "      <td>Ananas</td>\n",
       "      <td>1449.0</td>\n",
       "    </tr>\n",
       "  </tbody>\n",
       "</table>\n",
       "</div>"
      ],
      "text/plain": [
       "                      Produit  Exportations - Quantité\n",
       "13759        Abats Comestible                      5.0\n",
       "13760         Agrumes, Autres                      6.0\n",
       "13761  Alcool, non Comestible                    110.0\n",
       "13762   Aliments pour enfants                      7.0\n",
       "13763                  Ananas                   1449.0"
      ]
     },
     "execution_count": 77,
     "metadata": {},
     "output_type": "execute_result"
    }
   ],
   "source": [
    "exportation = thai[['Produit','Exportations - Quantité']]\n",
    "exportation.head()\n"
   ]
  },
  {
   "cell_type": "code",
   "execution_count": 78,
   "id": "6cc72353",
   "metadata": {
    "slideshow": {
     "slide_type": "slide"
    }
   },
   "outputs": [
    {
     "data": {
      "image/png": "[encoded data removed]",
      "text/plain": [
       "<Figure size 1080x1080 with 1 Axes>"
      ]
     },
     "metadata": {
      "needs_background": "light"
     },
     "output_type": "display_data"
    }
   ],
   "source": [
    "plt.figure(figsize=(15,15))\n",
    "names = exportation['Produit'] # nom des barres\n",
    "w=1\n",
    "values = exportation['Exportations - Quantité']\n",
    "\n",
    "plt.barh(names, values,w) ; plt.show() # Tracer"
   ]
  },
  {
   "cell_type": "markdown",
   "id": "8c853ea6",
   "metadata": {
    "slideshow": {
     "slide_type": "slide"
    }
   },
   "source": [
    "#### Proportion du manioc exporté"
   ]
  },
  {
   "cell_type": "code",
   "execution_count": 79,
   "id": "dbe4bc93",
   "metadata": {
    "slideshow": {
     "slide_type": "fragment"
    }
   },
   "outputs": [],
   "source": [
    "thaimanexpo=thaimanio['Exportations - Quantité']\n",
    "thaimanprod=thaimanio['Production']\n",
    "thaimanimp=thaimanio['Importations - Quantité']"
   ]
  },
  {
   "cell_type": "code",
   "execution_count": 80,
   "id": "3549c842",
   "metadata": {
    "slideshow": {
     "slide_type": "fragment"
    }
   },
   "outputs": [
    {
     "name": "stdout",
     "output_type": "stream",
     "text": [
      "Le manioc exporté représente 80.10%  du total du manioc présent en Thailande\n"
     ]
    }
   ],
   "source": [
    "mantaux=round((thaimanexpo*100)/(thaimanprod+thaimanimp),2)/100\n",
    "print('Le manioc exporté représente','{:.2%}'.format(mantaux.iloc[0]),' du total du manioc présent en Thailande')"
   ]
  },
  {
   "cell_type": "markdown",
   "id": "2fee7450",
   "metadata": {
    "slideshow": {
     "slide_type": "slide"
    }
   },
   "source": [
    "#### Evolution et répartition des aides alimentaires"
   ]
  },
  {
   "cell_type": "markdown",
   "id": "e14f0ad1",
   "metadata": {
    "slideshow": {
     "slide_type": "fragment"
    }
   },
   "source": [
    "En premier lieu, regroupons les aides par années "
   ]
  },
  {
   "cell_type": "code",
   "execution_count": 81,
   "id": "2de4d690",
   "metadata": {
    "slideshow": {
     "slide_type": "fragment"
    }
   },
   "outputs": [],
   "source": [
    "aide2013=aide[aide['Année']==2013]\n",
    "aide2013=aide2013.copy()\n",
    "aide2014=aide[aide['Année']==2014]\n",
    "aide2014=aide2014.copy()\n",
    "aide2015=aide[aide['Année']==2015]\n",
    "aide2015=aide2015.copy()\n",
    "aide2016=aide[aide['Année']==2016]\n",
    "aide2016=aide2016.copy()"
   ]
  },
  {
   "cell_type": "markdown",
   "id": "ad80e4a6",
   "metadata": {
    "slideshow": {
     "slide_type": "slide"
    }
   },
   "source": [
    "Renommons les colonnes pour éviter les confusions "
   ]
  },
  {
   "cell_type": "code",
   "execution_count": 82,
   "id": "875ad51b",
   "metadata": {
    "slideshow": {
     "slide_type": "fragment"
    }
   },
   "outputs": [],
   "source": [
    "aide2013.rename(columns={'Valeur': 'Valeur 2013'}, inplace=True)"
   ]
  },
  {
   "cell_type": "code",
   "execution_count": 83,
   "id": "6fc34e6f",
   "metadata": {
    "slideshow": {
     "slide_type": "fragment"
    }
   },
   "outputs": [],
   "source": [
    "aide2014.rename(columns={'Valeur': 'Valeur 2014'}, inplace=True)"
   ]
  },
  {
   "cell_type": "code",
   "execution_count": 84,
   "id": "1bc88623",
   "metadata": {
    "slideshow": {
     "slide_type": "fragment"
    }
   },
   "outputs": [],
   "source": [
    "aide2015.rename(columns={'Valeur': 'Valeur 2015'}, inplace=True)"
   ]
  },
  {
   "cell_type": "code",
   "execution_count": 85,
   "id": "0ec059cc",
   "metadata": {
    "slideshow": {
     "slide_type": "subslide"
    }
   },
   "outputs": [],
   "source": [
    "aide2016.rename(columns={'Valeur': 'Valeur 2016'}, inplace=True)"
   ]
  },
  {
   "cell_type": "markdown",
   "id": "c3d7a8be",
   "metadata": {
    "slideshow": {
     "slide_type": "skip"
    }
   },
   "source": [
    "Supprimons la colonne 'Année' qui devient obsolète "
   ]
  },
  {
   "cell_type": "code",
   "execution_count": 86,
   "id": "6abe3aef",
   "metadata": {
    "slideshow": {
     "slide_type": "skip"
    }
   },
   "outputs": [],
   "source": [
    "aide2013=aide2013[['Pays bénéficiaire', 'Valeur 2013']] # Réduction des entêtes"
   ]
  },
  {
   "cell_type": "code",
   "execution_count": 87,
   "id": "88805836",
   "metadata": {
    "slideshow": {
     "slide_type": "skip"
    }
   },
   "outputs": [],
   "source": [
    "aide2014=aide2014[['Pays bénéficiaire', 'Valeur 2014']]"
   ]
  },
  {
   "cell_type": "code",
   "execution_count": 88,
   "id": "e325f67f",
   "metadata": {
    "slideshow": {
     "slide_type": "skip"
    }
   },
   "outputs": [],
   "source": [
    "aide2015=aide2015[['Pays bénéficiaire', 'Valeur 2015']]"
   ]
  },
  {
   "cell_type": "code",
   "execution_count": 89,
   "id": "543bc123",
   "metadata": {
    "slideshow": {
     "slide_type": "skip"
    }
   },
   "outputs": [],
   "source": [
    "aide2016=aide2016[['Pays bénéficiaire', 'Valeur 2016']]"
   ]
  },
  {
   "cell_type": "markdown",
   "id": "eba66b75",
   "metadata": {
    "slideshow": {
     "slide_type": "slide"
    }
   },
   "source": [
    "Agrégation des valeurs par pays"
   ]
  },
  {
   "cell_type": "code",
   "execution_count": 90,
   "id": "10671217",
   "metadata": {
    "slideshow": {
     "slide_type": "fragment"
    }
   },
   "outputs": [],
   "source": [
    "aide2013=aide2013.groupby(['Pays bénéficiaire'])['Valeur 2013'].agg('sum') # Agrégation "
   ]
  },
  {
   "cell_type": "code",
   "execution_count": 91,
   "id": "09b37d63",
   "metadata": {
    "slideshow": {
     "slide_type": "fragment"
    }
   },
   "outputs": [],
   "source": [
    "aide2014=aide2014.groupby(['Pays bénéficiaire'])['Valeur 2014'].agg('sum')"
   ]
  },
  {
   "cell_type": "code",
   "execution_count": 92,
   "id": "d6a5c71d",
   "metadata": {
    "slideshow": {
     "slide_type": "fragment"
    }
   },
   "outputs": [],
   "source": [
    "aide2015=aide2015.groupby(['Pays bénéficiaire'])['Valeur 2015'].agg('sum')"
   ]
  },
  {
   "cell_type": "code",
   "execution_count": 93,
   "id": "e3acfce2",
   "metadata": {
    "slideshow": {
     "slide_type": "fragment"
    }
   },
   "outputs": [],
   "source": [
    "aide2016=aide2016.groupby(['Pays bénéficiaire'])['Valeur 2016'].agg('sum')"
   ]
  },
  {
   "cell_type": "code",
   "execution_count": 94,
   "id": "9c64b1c4",
   "metadata": {
    "slideshow": {
     "slide_type": "fragment"
    }
   },
   "outputs": [],
   "source": [
    "aidetotal=[aide2013, aide2014, aide2015, aide2016]"
   ]
  },
  {
   "cell_type": "code",
   "execution_count": 95,
   "id": "a7ddf302",
   "metadata": {
    "slideshow": {
     "slide_type": "slide"
    }
   },
   "outputs": [],
   "source": [
    "globaide= reduce(lambda left,right: pd.merge(left,right,on='Pays bénéficiaire',how='outer'), aidetotal) # Fusion "
   ]
  },
  {
   "cell_type": "code",
   "execution_count": 96,
   "id": "b0ad05ab",
   "metadata": {
    "slideshow": {
     "slide_type": "subslide"
    }
   },
   "outputs": [
    {
     "data": {
      "text/plain": [
       "Valeur 2013     4\n",
       "Valeur 2014     6\n",
       "Valeur 2015    16\n",
       "Valeur 2016    50\n",
       "dtype: int64"
      ]
     },
     "execution_count": 96,
     "metadata": {},
     "output_type": "execute_result"
    }
   ],
   "source": [
    "globaide.isnull().sum()"
   ]
  },
  {
   "cell_type": "markdown",
   "id": "73ca0584",
   "metadata": {
    "slideshow": {
     "slide_type": "slide"
    }
   },
   "source": [
    "Les aides de 2016 contiennent trop de valeur null, il serait préférable de prendre les aides de 2014 où il y a moins de valeurs null"
   ]
  },
  {
   "cell_type": "markdown",
   "id": "f65dcd14",
   "metadata": {
    "slideshow": {
     "slide_type": "fragment"
    }
   },
   "source": [
    "Renommons la colonne de \"Zone\" pour qu'elle coincide avec la colonne de Aide2014"
   ]
  },
  {
   "cell_type": "code",
   "execution_count": 97,
   "id": "bee02a98",
   "metadata": {
    "slideshow": {
     "slide_type": "skip"
    }
   },
   "outputs": [],
   "source": [
    "aide2014=pd.DataFrame(aide2014)"
   ]
  },
  {
   "cell_type": "code",
   "execution_count": 98,
   "id": "991d4bae",
   "metadata": {
    "slideshow": {
     "slide_type": "fragment"
    }
   },
   "outputs": [],
   "source": [
    "snt=sndrop.copy()\n",
    "snt.rename(columns={'Zone':'Pays bénéficiaire'}, inplace=True)"
   ]
  },
  {
   "cell_type": "code",
   "execution_count": 99,
   "id": "d6abcb14",
   "metadata": {
    "slideshow": {
     "slide_type": "slide"
    }
   },
   "outputs": [],
   "source": [
    "sna=[aide2014,snt]\n",
    "rateaidesn=reduce(lambda left,right: pd.merge(left,right,on='Pays bénéficiaire',how='outer'), sna) # Fusion "
   ]
  },
  {
   "cell_type": "markdown",
   "id": "dc93085e",
   "metadata": {
    "slideshow": {
     "slide_type": "fragment"
    }
   },
   "source": [
    "suppression valeur null"
   ]
  },
  {
   "cell_type": "code",
   "execution_count": 100,
   "id": "448cd801",
   "metadata": {
    "slideshow": {
     "slide_type": "fragment"
    }
   },
   "outputs": [],
   "source": [
    "sss=rateaidesn.dropna()"
   ]
  },
  {
   "cell_type": "code",
   "execution_count": 101,
   "id": "7cfd8e48",
   "metadata": {
    "slideshow": {
     "slide_type": "skip"
    }
   },
   "outputs": [],
   "source": [
    "sss.rename(columns={'Pays bénéficiaire': 'Pays','Valeur 2014': 'Aide','Valeur': 'Sous_nutrition'}, inplace=True)"
   ]
  },
  {
   "cell_type": "code",
   "execution_count": 102,
   "id": "bf484f1b",
   "metadata": {
    "slideshow": {
     "slide_type": "slide"
    }
   },
   "outputs": [
    {
     "name": "stdout",
     "output_type": "stream",
     "text": [
      "<class 'pandas.core.frame.DataFrame'>\n",
      "Int64Index: 48 entries, 0 to 69\n",
      "Data columns (total 3 columns):\n",
      " #   Column          Non-Null Count  Dtype  \n",
      "---  ------          --------------  -----  \n",
      " 0   Pays            48 non-null     object \n",
      " 1   Aide            48 non-null     float64\n",
      " 2   Sous_nutrition  48 non-null     float64\n",
      "dtypes: float64(2), object(1)\n",
      "memory usage: 1.5+ KB\n"
     ]
    }
   ],
   "source": [
    "sss.info()"
   ]
  },
  {
   "cell_type": "code",
   "execution_count": 103,
   "id": "100e749c",
   "metadata": {
    "slideshow": {
     "slide_type": "skip"
    }
   },
   "outputs": [],
   "source": [
    "sss.reset_index(inplace=True)"
   ]
  },
  {
   "cell_type": "code",
   "execution_count": 104,
   "id": "757bf2b4",
   "metadata": {
    "slideshow": {
     "slide_type": "slide"
    }
   },
   "outputs": [
    {
     "data": {
      "image/png": "[encoded data removed]",
      "text/plain": [
       "<Figure size 576x576 with 1 Axes>"
      ]
     },
     "metadata": {
      "needs_background": "light"
     },
     "output_type": "display_data"
    }
   ],
   "source": [
    "X=sss['Sous_nutrition']\n",
    "Y=sss['Aide']\n",
    "annotations=sss['Pays']\n",
    "plt.figure(figsize=(8,8))\n",
    "plt.scatter(X,Y)\n",
    "plt.xlabel(\"Population en état de sous nutrition \"),plt.ylabel(\"Aide alimentaire en tonne\"),plt.title(\"Situation de chaque pays\",fontsize=15)\n",
    "for i, label in enumerate(annotations):\n",
    "    plt.annotate(label, (X[i], Y[i]))\n",
    "sns.regplot(x = \"Sous_nutrition\",   y = \"Aide\",  data = sss) \n",
    "plt.show()"
   ]
  },
  {
   "cell_type": "markdown",
   "id": "78cd67f4",
   "metadata": {
    "slideshow": {
     "slide_type": "fragment"
    }
   },
   "source": [
    "Conclusion: Compte tenu de leur niveau de sous-nutrition certain pays perçoivent trop d'aide alimentaire et d'autre pas assez."
   ]
  },
  {
   "cell_type": "markdown",
   "id": "770834c2",
   "metadata": {
    "slideshow": {
     "slide_type": "slide"
    }
   },
   "source": [
    "#### Pays ayant le taux de sous nutrition le plus élevé "
   ]
  },
  {
   "cell_type": "markdown",
   "id": "1c97ffca",
   "metadata": {
    "slideshow": {
     "slide_type": "fragment"
    }
   },
   "source": [
    "##### Création d'un tableau avec les données sous-nutrition et population "
   ]
  },
  {
   "cell_type": "code",
   "execution_count": 105,
   "id": "d0e02353",
   "metadata": {
    "slideshow": {
     "slide_type": "fragment"
    }
   },
   "outputs": [],
   "source": [
    "test1=[sousnut,pop]"
   ]
  },
  {
   "cell_type": "code",
   "execution_count": 106,
   "id": "c3135f6c",
   "metadata": {
    "slideshow": {
     "slide_type": "fragment"
    }
   },
   "outputs": [],
   "source": [
    "mtest= reduce(lambda left,right: pd.merge(left,right,on='Zone',how='outer'), test1)"
   ]
  },
  {
   "cell_type": "code",
   "execution_count": 107,
   "id": "05b64a1f",
   "metadata": {
    "slideshow": {
     "slide_type": "fragment"
    }
   },
   "outputs": [
    {
     "data": {
      "text/html": [
       "<div>\n",
       "<style scoped>\n",
       "    .dataframe tbody tr th:only-of-type {\n",
       "        vertical-align: middle;\n",
       "    }\n",
       "\n",
       "    .dataframe tbody tr th {\n",
       "        vertical-align: top;\n",
       "    }\n",
       "\n",
       "    .dataframe thead th {\n",
       "        text-align: right;\n",
       "    }\n",
       "</style>\n",
       "<table border=\"1\" class=\"dataframe\">\n",
       "  <thead>\n",
       "    <tr style=\"text-align: right;\">\n",
       "      <th></th>\n",
       "      <th>Zone</th>\n",
       "      <th>Valeur_x</th>\n",
       "      <th>Valeur_y</th>\n",
       "    </tr>\n",
       "  </thead>\n",
       "  <tbody>\n",
       "    <tr>\n",
       "      <th>0</th>\n",
       "      <td>Afghanistan</td>\n",
       "      <td>10.5</td>\n",
       "      <td>36296.113</td>\n",
       "    </tr>\n",
       "    <tr>\n",
       "      <th>1</th>\n",
       "      <td>Afrique du Sud</td>\n",
       "      <td>3.1</td>\n",
       "      <td>57009.756</td>\n",
       "    </tr>\n",
       "    <tr>\n",
       "      <th>2</th>\n",
       "      <td>Albanie</td>\n",
       "      <td>0.1</td>\n",
       "      <td>2884.169</td>\n",
       "    </tr>\n",
       "    <tr>\n",
       "      <th>3</th>\n",
       "      <td>Algérie</td>\n",
       "      <td>1.3</td>\n",
       "      <td>41389.189</td>\n",
       "    </tr>\n",
       "    <tr>\n",
       "      <th>4</th>\n",
       "      <td>Allemagne</td>\n",
       "      <td>NaN</td>\n",
       "      <td>82658.409</td>\n",
       "    </tr>\n",
       "  </tbody>\n",
       "</table>\n",
       "</div>"
      ],
      "text/plain": [
       "             Zone  Valeur_x   Valeur_y\n",
       "0     Afghanistan      10.5  36296.113\n",
       "1  Afrique du Sud       3.1  57009.756\n",
       "2         Albanie       0.1   2884.169\n",
       "3         Algérie       1.3  41389.189\n",
       "4       Allemagne       NaN  82658.409"
      ]
     },
     "execution_count": 107,
     "metadata": {},
     "output_type": "execute_result"
    }
   ],
   "source": [
    "mtest.head()"
   ]
  },
  {
   "cell_type": "markdown",
   "id": "58ccfc04",
   "metadata": {
    "slideshow": {
     "slide_type": "skip"
    }
   },
   "source": [
    "Comment gérer la différence du nombre de ligne? Suppression de Valeur_x null? Ou remplacer Valeur_x null et suppression Valeur_y null? Je dois calculer un ratio il me faut donc les deux données, je peux donc supprimer toutes les données null. Je dois renommer d'abord les colonneses et appliquer les multiplications dans les données pour avoir les chiffres complets, ajouté une colonne pour y stocker le ratio"
   ]
  },
  {
   "cell_type": "code",
   "execution_count": 108,
   "id": "b99f5e7c",
   "metadata": {
    "slideshow": {
     "slide_type": "slide"
    }
   },
   "outputs": [],
   "source": [
    "mtest.rename(columns={'Valeur_x': 'Sous nutrition', 'Valeur_y': 'Population'}, inplace=True)"
   ]
  },
  {
   "cell_type": "code",
   "execution_count": 109,
   "id": "cc1d723f",
   "metadata": {
    "slideshow": {
     "slide_type": "fragment"
    }
   },
   "outputs": [
    {
     "data": {
      "text/html": [
       "<div>\n",
       "<style scoped>\n",
       "    .dataframe tbody tr th:only-of-type {\n",
       "        vertical-align: middle;\n",
       "    }\n",
       "\n",
       "    .dataframe tbody tr th {\n",
       "        vertical-align: top;\n",
       "    }\n",
       "\n",
       "    .dataframe thead th {\n",
       "        text-align: right;\n",
       "    }\n",
       "</style>\n",
       "<table border=\"1\" class=\"dataframe\">\n",
       "  <thead>\n",
       "    <tr style=\"text-align: right;\">\n",
       "      <th></th>\n",
       "      <th>Zone</th>\n",
       "      <th>Sous nutrition</th>\n",
       "      <th>Population</th>\n",
       "    </tr>\n",
       "  </thead>\n",
       "  <tbody>\n",
       "    <tr>\n",
       "      <th>0</th>\n",
       "      <td>Afghanistan</td>\n",
       "      <td>10.5</td>\n",
       "      <td>36296.113</td>\n",
       "    </tr>\n",
       "    <tr>\n",
       "      <th>1</th>\n",
       "      <td>Afrique du Sud</td>\n",
       "      <td>3.1</td>\n",
       "      <td>57009.756</td>\n",
       "    </tr>\n",
       "    <tr>\n",
       "      <th>2</th>\n",
       "      <td>Albanie</td>\n",
       "      <td>0.1</td>\n",
       "      <td>2884.169</td>\n",
       "    </tr>\n",
       "    <tr>\n",
       "      <th>3</th>\n",
       "      <td>Algérie</td>\n",
       "      <td>1.3</td>\n",
       "      <td>41389.189</td>\n",
       "    </tr>\n",
       "    <tr>\n",
       "      <th>4</th>\n",
       "      <td>Allemagne</td>\n",
       "      <td>NaN</td>\n",
       "      <td>82658.409</td>\n",
       "    </tr>\n",
       "  </tbody>\n",
       "</table>\n",
       "</div>"
      ],
      "text/plain": [
       "             Zone  Sous nutrition  Population\n",
       "0     Afghanistan            10.5   36296.113\n",
       "1  Afrique du Sud             3.1   57009.756\n",
       "2         Albanie             0.1    2884.169\n",
       "3         Algérie             1.3   41389.189\n",
       "4       Allemagne             NaN   82658.409"
      ]
     },
     "execution_count": 109,
     "metadata": {},
     "output_type": "execute_result"
    }
   ],
   "source": [
    "mtest.head()"
   ]
  },
  {
   "cell_type": "code",
   "execution_count": 110,
   "id": "03fb091e",
   "metadata": {
    "slideshow": {
     "slide_type": "skip"
    }
   },
   "outputs": [],
   "source": [
    "def pop(x):\n",
    "    return x*1000\n",
    "\n",
    "mtest['Population'] = mtest['Population'].transform(pop)"
   ]
  },
  {
   "cell_type": "code",
   "execution_count": 111,
   "id": "a51d85d6",
   "metadata": {
    "slideshow": {
     "slide_type": "skip"
    }
   },
   "outputs": [],
   "source": [
    "def nut(x):\n",
    "    return x*1000000\n",
    "\n",
    "mtest['Sous nutrition'] = mtest['Sous nutrition'].transform(nut)"
   ]
  },
  {
   "cell_type": "code",
   "execution_count": 112,
   "id": "84d53c76",
   "metadata": {
    "slideshow": {
     "slide_type": "slide"
    }
   },
   "outputs": [
    {
     "data": {
      "text/html": [
       "<div>\n",
       "<style scoped>\n",
       "    .dataframe tbody tr th:only-of-type {\n",
       "        vertical-align: middle;\n",
       "    }\n",
       "\n",
       "    .dataframe tbody tr th {\n",
       "        vertical-align: top;\n",
       "    }\n",
       "\n",
       "    .dataframe thead th {\n",
       "        text-align: right;\n",
       "    }\n",
       "</style>\n",
       "<table border=\"1\" class=\"dataframe\">\n",
       "  <thead>\n",
       "    <tr style=\"text-align: right;\">\n",
       "      <th></th>\n",
       "      <th>Zone</th>\n",
       "      <th>Sous nutrition</th>\n",
       "      <th>Population</th>\n",
       "    </tr>\n",
       "  </thead>\n",
       "  <tbody>\n",
       "    <tr>\n",
       "      <th>0</th>\n",
       "      <td>Afghanistan</td>\n",
       "      <td>10500000.0</td>\n",
       "      <td>36296113.0</td>\n",
       "    </tr>\n",
       "    <tr>\n",
       "      <th>1</th>\n",
       "      <td>Afrique du Sud</td>\n",
       "      <td>3100000.0</td>\n",
       "      <td>57009756.0</td>\n",
       "    </tr>\n",
       "    <tr>\n",
       "      <th>2</th>\n",
       "      <td>Albanie</td>\n",
       "      <td>100000.0</td>\n",
       "      <td>2884169.0</td>\n",
       "    </tr>\n",
       "    <tr>\n",
       "      <th>3</th>\n",
       "      <td>Algérie</td>\n",
       "      <td>1300000.0</td>\n",
       "      <td>41389189.0</td>\n",
       "    </tr>\n",
       "    <tr>\n",
       "      <th>4</th>\n",
       "      <td>Allemagne</td>\n",
       "      <td>NaN</td>\n",
       "      <td>82658409.0</td>\n",
       "    </tr>\n",
       "  </tbody>\n",
       "</table>\n",
       "</div>"
      ],
      "text/plain": [
       "             Zone  Sous nutrition  Population\n",
       "0     Afghanistan      10500000.0  36296113.0\n",
       "1  Afrique du Sud       3100000.0  57009756.0\n",
       "2         Albanie        100000.0   2884169.0\n",
       "3         Algérie       1300000.0  41389189.0\n",
       "4       Allemagne             NaN  82658409.0"
      ]
     },
     "execution_count": 112,
     "metadata": {},
     "output_type": "execute_result"
    }
   ],
   "source": [
    "mtest.head()"
   ]
  },
  {
   "cell_type": "code",
   "execution_count": 113,
   "id": "1311d4c0",
   "metadata": {
    "slideshow": {
     "slide_type": "fragment"
    }
   },
   "outputs": [],
   "source": [
    "mtest=mtest.dropna()"
   ]
  },
  {
   "cell_type": "markdown",
   "id": "dd31357a",
   "metadata": {
    "slideshow": {
     "slide_type": "slide"
    }
   },
   "source": [
    "##### Création d'une colonne pour afficher le taux de sous-nutrition "
   ]
  },
  {
   "cell_type": "code",
   "execution_count": 114,
   "id": "3a45a20b",
   "metadata": {
    "slideshow": {
     "slide_type": "fragment"
    }
   },
   "outputs": [],
   "source": [
    "mtest['Ratio']=(mtest['Sous nutrition']*100)/mtest['Population']"
   ]
  },
  {
   "cell_type": "code",
   "execution_count": 115,
   "id": "a925371d",
   "metadata": {
    "slideshow": {
     "slide_type": "fragment"
    }
   },
   "outputs": [
    {
     "data": {
      "text/html": [
       "<div>\n",
       "<style scoped>\n",
       "    .dataframe tbody tr th:only-of-type {\n",
       "        vertical-align: middle;\n",
       "    }\n",
       "\n",
       "    .dataframe tbody tr th {\n",
       "        vertical-align: top;\n",
       "    }\n",
       "\n",
       "    .dataframe thead th {\n",
       "        text-align: right;\n",
       "    }\n",
       "</style>\n",
       "<table border=\"1\" class=\"dataframe\">\n",
       "  <thead>\n",
       "    <tr style=\"text-align: right;\">\n",
       "      <th></th>\n",
       "      <th>Zone</th>\n",
       "      <th>Sous nutrition</th>\n",
       "      <th>Population</th>\n",
       "      <th>Ratio</th>\n",
       "    </tr>\n",
       "  </thead>\n",
       "  <tbody>\n",
       "    <tr>\n",
       "      <th>0</th>\n",
       "      <td>Afghanistan</td>\n",
       "      <td>10500000.0</td>\n",
       "      <td>36296113.0</td>\n",
       "      <td>28.928718</td>\n",
       "    </tr>\n",
       "    <tr>\n",
       "      <th>1</th>\n",
       "      <td>Afrique du Sud</td>\n",
       "      <td>3100000.0</td>\n",
       "      <td>57009756.0</td>\n",
       "      <td>5.437666</td>\n",
       "    </tr>\n",
       "    <tr>\n",
       "      <th>2</th>\n",
       "      <td>Albanie</td>\n",
       "      <td>100000.0</td>\n",
       "      <td>2884169.0</td>\n",
       "      <td>3.467203</td>\n",
       "    </tr>\n",
       "    <tr>\n",
       "      <th>3</th>\n",
       "      <td>Algérie</td>\n",
       "      <td>1300000.0</td>\n",
       "      <td>41389189.0</td>\n",
       "      <td>3.140917</td>\n",
       "    </tr>\n",
       "    <tr>\n",
       "      <th>6</th>\n",
       "      <td>Angola</td>\n",
       "      <td>5800000.0</td>\n",
       "      <td>29816766.0</td>\n",
       "      <td>19.452143</td>\n",
       "    </tr>\n",
       "  </tbody>\n",
       "</table>\n",
       "</div>"
      ],
      "text/plain": [
       "             Zone  Sous nutrition  Population      Ratio\n",
       "0     Afghanistan      10500000.0  36296113.0  28.928718\n",
       "1  Afrique du Sud       3100000.0  57009756.0   5.437666\n",
       "2         Albanie        100000.0   2884169.0   3.467203\n",
       "3         Algérie       1300000.0  41389189.0   3.140917\n",
       "6          Angola       5800000.0  29816766.0  19.452143"
      ]
     },
     "execution_count": 115,
     "metadata": {},
     "output_type": "execute_result"
    }
   ],
   "source": [
    "mtest.head()"
   ]
  },
  {
   "cell_type": "markdown",
   "id": "6541982d",
   "metadata": {
    "slideshow": {
     "slide_type": "slide"
    }
   },
   "source": [
    "##### Réorganisation du tableau par ordre décroissant "
   ]
  },
  {
   "cell_type": "code",
   "execution_count": 116,
   "id": "2b2d585a",
   "metadata": {
    "slideshow": {
     "slide_type": "fragment"
    }
   },
   "outputs": [],
   "source": [
    "mtesttri=mtest.sort_values(by=['Ratio'],ascending=False)"
   ]
  },
  {
   "cell_type": "code",
   "execution_count": 117,
   "id": "85c468b6",
   "metadata": {
    "slideshow": {
     "slide_type": "slide"
    }
   },
   "outputs": [
    {
     "data": {
      "text/html": [
       "<div>\n",
       "<style scoped>\n",
       "    .dataframe tbody tr th:only-of-type {\n",
       "        vertical-align: middle;\n",
       "    }\n",
       "\n",
       "    .dataframe tbody tr th {\n",
       "        vertical-align: top;\n",
       "    }\n",
       "\n",
       "    .dataframe thead th {\n",
       "        text-align: right;\n",
       "    }\n",
       "</style>\n",
       "<table border=\"1\" class=\"dataframe\">\n",
       "  <thead>\n",
       "    <tr style=\"text-align: right;\">\n",
       "      <th></th>\n",
       "      <th>Zone</th>\n",
       "      <th>Sous nutrition</th>\n",
       "      <th>Population</th>\n",
       "      <th>Ratio</th>\n",
       "    </tr>\n",
       "  </thead>\n",
       "  <tbody>\n",
       "    <tr>\n",
       "      <th>51</th>\n",
       "      <td>Dominique</td>\n",
       "      <td>50000.0</td>\n",
       "      <td>71458.0</td>\n",
       "      <td>69.971172</td>\n",
       "    </tr>\n",
       "    <tr>\n",
       "      <th>78</th>\n",
       "      <td>Haïti</td>\n",
       "      <td>5300000.0</td>\n",
       "      <td>10982366.0</td>\n",
       "      <td>48.259182</td>\n",
       "    </tr>\n",
       "    <tr>\n",
       "      <th>157</th>\n",
       "      <td>République populaire démocratique de Corée</td>\n",
       "      <td>12000000.0</td>\n",
       "      <td>25429825.0</td>\n",
       "      <td>47.188685</td>\n",
       "    </tr>\n",
       "    <tr>\n",
       "      <th>164</th>\n",
       "      <td>Saint-Vincent-et-les Grenadines</td>\n",
       "      <td>50000.0</td>\n",
       "      <td>109827.0</td>\n",
       "      <td>45.526146</td>\n",
       "    </tr>\n",
       "    <tr>\n",
       "      <th>98</th>\n",
       "      <td>Kiribati</td>\n",
       "      <td>50000.0</td>\n",
       "      <td>114158.0</td>\n",
       "      <td>43.798945</td>\n",
       "    </tr>\n",
       "    <tr>\n",
       "      <th>108</th>\n",
       "      <td>Madagascar</td>\n",
       "      <td>10500000.0</td>\n",
       "      <td>25570512.0</td>\n",
       "      <td>41.062924</td>\n",
       "    </tr>\n",
       "    <tr>\n",
       "      <th>103</th>\n",
       "      <td>Libéria</td>\n",
       "      <td>1800000.0</td>\n",
       "      <td>4702226.0</td>\n",
       "      <td>38.279742</td>\n",
       "    </tr>\n",
       "    <tr>\n",
       "      <th>100</th>\n",
       "      <td>Lesotho</td>\n",
       "      <td>800000.0</td>\n",
       "      <td>2091534.0</td>\n",
       "      <td>38.249438</td>\n",
       "    </tr>\n",
       "    <tr>\n",
       "      <th>183</th>\n",
       "      <td>Tchad</td>\n",
       "      <td>5700000.0</td>\n",
       "      <td>15016753.0</td>\n",
       "      <td>37.957606</td>\n",
       "    </tr>\n",
       "    <tr>\n",
       "      <th>161</th>\n",
       "      <td>Rwanda</td>\n",
       "      <td>4200000.0</td>\n",
       "      <td>11980961.0</td>\n",
       "      <td>35.055619</td>\n",
       "    </tr>\n",
       "  </tbody>\n",
       "</table>\n",
       "</div>"
      ],
      "text/plain": [
       "                                           Zone  Sous nutrition  Population  \\\n",
       "51                                    Dominique         50000.0     71458.0   \n",
       "78                                        Haïti       5300000.0  10982366.0   \n",
       "157  République populaire démocratique de Corée      12000000.0  25429825.0   \n",
       "164             Saint-Vincent-et-les Grenadines         50000.0    109827.0   \n",
       "98                                     Kiribati         50000.0    114158.0   \n",
       "108                                  Madagascar      10500000.0  25570512.0   \n",
       "103                                     Libéria       1800000.0   4702226.0   \n",
       "100                                     Lesotho        800000.0   2091534.0   \n",
       "183                                       Tchad       5700000.0  15016753.0   \n",
       "161                                      Rwanda       4200000.0  11980961.0   \n",
       "\n",
       "         Ratio  \n",
       "51   69.971172  \n",
       "78   48.259182  \n",
       "157  47.188685  \n",
       "164  45.526146  \n",
       "98   43.798945  \n",
       "108  41.062924  \n",
       "103  38.279742  \n",
       "100  38.249438  \n",
       "183  37.957606  \n",
       "161  35.055619  "
      ]
     },
     "execution_count": 117,
     "metadata": {},
     "output_type": "execute_result"
    }
   ],
   "source": [
    "mtesttri.head(10)"
   ]
  },
  {
   "cell_type": "markdown",
   "id": "ef8dbdc3",
   "metadata": {
    "slideshow": {
     "slide_type": "fragment"
    }
   },
   "source": [
    "Nous constatons que plusieurs observations apparaissent car nous avons attribué un nombre \"arbitraire \" en sous nutrition de 0,05 afin de remplacer le < 0,1. Hors ces Zone étant tellement peu peuplé que ce chiffre attribué \"en substitution\" si faible soit il, leurs présentent un taux de sous nutrition qui ne reflète peut être pas une réalité objective concernant ces zones."
   ]
  },
  {
   "cell_type": "markdown",
   "id": "a1003133",
   "metadata": {
    "slideshow": {
     "slide_type": "slide"
    }
   },
   "source": [
    "##### Graphique du nombre de pays par taux de sous-nutrition "
   ]
  },
  {
   "cell_type": "code",
   "execution_count": 118,
   "id": "0903fd58",
   "metadata": {
    "slideshow": {
     "slide_type": "fragment"
    }
   },
   "outputs": [
    {
     "data": {
      "image/png": "[encoded data removed]",
      "text/plain": [
       "<Figure size 432x288 with 1 Axes>"
      ]
     },
     "metadata": {
      "needs_background": "light"
     },
     "output_type": "display_data"
    }
   ],
   "source": [
    "data = mtest['Ratio']\n",
    "\n",
    "plt.hist(data, bins = [0,10,20,30,40,50])\n",
    "plt.title('Nombre de pays par rapport au taux de sous nutrition ', fontsize=15)\n",
    "plt.xlabel('Taux de personnes en sous nutrition en %')\n",
    "plt.ylabel('Nombre de pays dans cette catégorie ')\n",
    "plt.show()"
   ]
  },
  {
   "cell_type": "markdown",
   "id": "e20da2c9",
   "metadata": {
    "slideshow": {
     "slide_type": "slide"
    }
   },
   "source": [
    "##### Graphique des dix pays ayant le taux de sous-nutrition le plus élevé "
   ]
  },
  {
   "cell_type": "code",
   "execution_count": 119,
   "id": "cd8cf6f8",
   "metadata": {
    "slideshow": {
     "slide_type": "fragment"
    }
   },
   "outputs": [],
   "source": [
    "mt=mtesttri.head(10)"
   ]
  },
  {
   "cell_type": "code",
   "execution_count": 120,
   "id": "d53bc567",
   "metadata": {
    "slideshow": {
     "slide_type": "fragment"
    }
   },
   "outputs": [
    {
     "data": {
      "image/png": "[encoded data removed]",
      "text/plain": [
       "<Figure size 1440x1080 with 1 Axes>"
      ]
     },
     "metadata": {
      "needs_background": "light"
     },
     "output_type": "display_data"
    }
   ],
   "source": [
    "plt.figure(figsize=(20,15))\n",
    "names =mt['Zone'] # nom des barres\n",
    "values = mt['Ratio']\n",
    "\n",
    "plt.barh(names, values) ; plt.show() # Tracer"
   ]
  },
  {
   "cell_type": "markdown",
   "id": "df959b66",
   "metadata": {
    "slideshow": {
     "slide_type": "slide"
    }
   },
   "source": [
    "#### Calcul du cumul des aides par pays depuis 2013"
   ]
  },
  {
   "cell_type": "code",
   "execution_count": 121,
   "id": "3a85463b",
   "metadata": {
    "slideshow": {
     "slide_type": "fragment"
    }
   },
   "outputs": [],
   "source": [
    "aidecomp=aide[['Pays bénéficiaire','Valeur']]\n",
    "aidecumul=aidecomp.groupby(['Pays bénéficiaire'])['Valeur'].agg('sum')\n",
    "aidecumul=pd.DataFrame(aidecumul)\n",
    "aidecumul['Pays']=aidecumul.index # Les pays ayant été stockés en index il faut donc recréer une collone"
   ]
  },
  {
   "cell_type": "code",
   "execution_count": 122,
   "id": "e96d122c",
   "metadata": {
    "slideshow": {
     "slide_type": "fragment"
    }
   },
   "outputs": [],
   "source": [
    "aidecumul=aidecumul.sort_values(by=['Valeur'],ascending=False)"
   ]
  },
  {
   "cell_type": "code",
   "execution_count": 123,
   "id": "68342b61",
   "metadata": {
    "slideshow": {
     "slide_type": "fragment"
    }
   },
   "outputs": [],
   "source": [
    "aidecumul=aidecumul.head(10)"
   ]
  },
  {
   "cell_type": "code",
   "execution_count": 124,
   "id": "4826e72e",
   "metadata": {
    "slideshow": {
     "slide_type": "skip"
    }
   },
   "outputs": [
    {
     "name": "stdout",
     "output_type": "stream",
     "text": [
      "<class 'pandas.core.frame.DataFrame'>\n",
      "Index: 10 entries, République arabe syrienne to Niger\n",
      "Data columns (total 2 columns):\n",
      " #   Column  Non-Null Count  Dtype \n",
      "---  ------  --------------  ----- \n",
      " 0   Valeur  10 non-null     int64 \n",
      " 1   Pays    10 non-null     object\n",
      "dtypes: int64(1), object(1)\n",
      "memory usage: 240.0+ bytes\n"
     ]
    }
   ],
   "source": [
    "aidecumul.info()"
   ]
  },
  {
   "cell_type": "code",
   "execution_count": 125,
   "id": "ccace6bb",
   "metadata": {
    "slideshow": {
     "slide_type": "slide"
    }
   },
   "outputs": [
    {
     "data": {
      "text/plain": [
       "[Text(0.5, 0, 'Cumul des aides alimentaires en million de tonne'),\n",
       " Text(0, 0.5, 'Pays'),\n",
       " Text(0.5, 1.0, 'Cumul des aides alimentaires de 2013 à 2016')]"
      ]
     },
     "execution_count": 125,
     "metadata": {},
     "output_type": "execute_result"
    },
    {
     "data": {
      "image/png": "[encoded data removed]",
      "text/plain": [
       "<Figure size 432x288 with 1 Axes>"
      ]
     },
     "metadata": {
      "needs_background": "light"
     },
     "output_type": "display_data"
    }
   ],
   "source": [
    "\n",
    "ax=sns.barplot(x='Valeur', y='Pays', data=aidecumul)\n",
    "ax.set(xlabel='Cumul des aides alimentaires en million de tonne', ylabel='Pays',title='Cumul des aides alimentaires de 2013 à 2016')"
   ]
  },
  {
   "cell_type": "markdown",
   "id": "65babd67",
   "metadata": {
    "slideshow": {
     "slide_type": "slide"
    }
   },
   "source": [
    "#### Classement des pays ayant le plus/le moins de disponibilité alimentaire"
   ]
  },
  {
   "cell_type": "code",
   "execution_count": 126,
   "id": "90213e4d",
   "metadata": {
    "slideshow": {
     "slide_type": "fragment"
    }
   },
   "outputs": [],
   "source": [
    "plusdispo=dispopays.sort_values(by=['Disponibilité alimentaire (Cal/personne/jour)'],ascending=False)"
   ]
  },
  {
   "cell_type": "code",
   "execution_count": 127,
   "id": "7cec1079",
   "metadata": {
    "slideshow": {
     "slide_type": "fragment"
    }
   },
   "outputs": [],
   "source": [
    "plus=plusdispo.head(10)"
   ]
  },
  {
   "cell_type": "code",
   "execution_count": 128,
   "id": "b3b16506",
   "metadata": {
    "slideshow": {
     "slide_type": "fragment"
    }
   },
   "outputs": [],
   "source": [
    "moinsdispo=dispopays.sort_values(by=['Disponibilité alimentaire (Cal/personne/jour)'],ascending=True)"
   ]
  },
  {
   "cell_type": "code",
   "execution_count": 129,
   "id": "7217eb65",
   "metadata": {
    "slideshow": {
     "slide_type": "fragment"
    }
   },
   "outputs": [],
   "source": [
    "moins=moinsdispo.head(10)"
   ]
  },
  {
   "cell_type": "code",
   "execution_count": 130,
   "id": "33cf42e7",
   "metadata": {
    "slideshow": {
     "slide_type": "slide"
    }
   },
   "outputs": [],
   "source": [
    "frames = [plus,moins]\n",
    "\n",
    "result = pd.concat(frames)"
   ]
  },
  {
   "cell_type": "code",
   "execution_count": 131,
   "id": "09a10206",
   "metadata": {
    "slideshow": {
     "slide_type": "skip"
    }
   },
   "outputs": [],
   "source": [
    "result['Zone']=result.index"
   ]
  },
  {
   "cell_type": "code",
   "execution_count": 132,
   "id": "ca9d1638",
   "metadata": {
    "slideshow": {
     "slide_type": "slide"
    }
   },
   "outputs": [
    {
     "data": {
      "text/plain": [
       "[Text(0.5, 0, 'Disponibilité alimentaire'),\n",
       " Text(0, 0.5, 'Pays'),\n",
       " Text(0.5, 1.0, 'Différence entre les pays ayant le plus/moins de disponibilité alimentaire')]"
      ]
     },
     "execution_count": 132,
     "metadata": {},
     "output_type": "execute_result"
    },
    {
     "data": {
      "image/png": "[encoded data removed]",
      "text/plain": [
       "<Figure size 432x288 with 1 Axes>"
      ]
     },
     "metadata": {
      "needs_background": "light"
     },
     "output_type": "display_data"
    }
   ],
   "source": [
    "ax=sns.barplot(x='Disponibilité alimentaire (Cal/personne/jour)', y='Zone', data=result)\n",
    "plt.axvline(x=2500,color='red',linestyle='--')\n",
    "ax.set(xlabel='Disponibilité alimentaire', ylabel='Pays',title='Différence entre les pays ayant le plus/moins de disponibilité alimentaire')"
   ]
  }
 ],
 "metadata": {
  "celltoolbar": "Diaporama",
  "kernelspec": {
   "display_name": "Python 3 (ipykernel)",
   "language": "python",
   "name": "python3"
  },
  "language_info": {
   "codemirror_mode": {
    "name": "ipython",
    "version": 3
   },
   "file_extension": ".py",
   "mimetype": "text/x-python",
   "name": "python",
   "nbconvert_exporter": "python",
   "pygments_lexer": "ipython3",
   "version": "3.9.7"
  }
 },
 "nbformat": 4,
 "nbformat_minor": 5
}
